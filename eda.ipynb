{
 "cells": [
  {
   "cell_type": "code",
   "execution_count": 2,
   "metadata": {},
   "outputs": [],
   "source": [
    "import pandas as pd\n",
    "import numpy as np\n",
    "import datetime\n",
    "\n",
    "import matplotlib.pyplot as plt"
   ]
  },
  {
   "cell_type": "code",
   "execution_count": 3,
   "metadata": {},
   "outputs": [],
   "source": [
    "#stocks_eur = pd.read_json(r\"C:\\Users\\Acer\\Downloads\\Telegram Desktop\\XRP_EUR.json\")"
   ]
  },
  {
   "cell_type": "code",
   "execution_count": 4,
   "metadata": {},
   "outputs": [],
   "source": [
    "#stocks_usd = pd.read_json(r\"C:\\Users\\Acer\\Downloads\\Telegram Desktop\\XRP_USD.json\")"
   ]
  },
  {
   "cell_type": "code",
   "execution_count": 5,
   "metadata": {},
   "outputs": [],
   "source": [
    "#stocks = pd.read_json(r\"C:\\Users\\Acer\\Downloads\\Telegram Desktop\\sample_BTCset_1.json\")"
   ]
  },
  {
   "cell_type": "code",
   "execution_count": 283,
   "metadata": {},
   "outputs": [],
   "source": [
    "stocks = pd.read_json(r\"data.json\")"
   ]
  },
  {
   "cell_type": "code",
   "execution_count": 284,
   "metadata": {
    "tags": []
   },
   "outputs": [
    {
     "data": {
      "text/html": [
       "<div>\n",
       "<style scoped>\n",
       "    .dataframe tbody tr th:only-of-type {\n",
       "        vertical-align: middle;\n",
       "    }\n",
       "\n",
       "    .dataframe tbody tr th {\n",
       "        vertical-align: top;\n",
       "    }\n",
       "\n",
       "    .dataframe thead th {\n",
       "        text-align: right;\n",
       "    }\n",
       "</style>\n",
       "<table border=\"1\" class=\"dataframe\">\n",
       "  <thead>\n",
       "    <tr style=\"text-align: right;\">\n",
       "      <th></th>\n",
       "      <th>id</th>\n",
       "      <th>tmsp</th>\n",
       "      <th>priceUSD</th>\n",
       "      <th>priceEUR</th>\n",
       "      <th>cryptoCurrency</th>\n",
       "    </tr>\n",
       "  </thead>\n",
       "  <tbody>\n",
       "    <tr>\n",
       "      <th>0</th>\n",
       "      <td>1</td>\n",
       "      <td>1618866864</td>\n",
       "      <td>56314.7</td>\n",
       "      <td>46807.7</td>\n",
       "      <td>BTC</td>\n",
       "    </tr>\n",
       "    <tr>\n",
       "      <th>1</th>\n",
       "      <td>2</td>\n",
       "      <td>1618866866</td>\n",
       "      <td>56314.7</td>\n",
       "      <td>46807.7</td>\n",
       "      <td>BTC</td>\n",
       "    </tr>\n",
       "    <tr>\n",
       "      <th>2</th>\n",
       "      <td>3</td>\n",
       "      <td>1618866867</td>\n",
       "      <td>56314.7</td>\n",
       "      <td>46807.7</td>\n",
       "      <td>BTC</td>\n",
       "    </tr>\n",
       "    <tr>\n",
       "      <th>3</th>\n",
       "      <td>4</td>\n",
       "      <td>1618866869</td>\n",
       "      <td>56314.7</td>\n",
       "      <td>46807.7</td>\n",
       "      <td>BTC</td>\n",
       "    </tr>\n",
       "    <tr>\n",
       "      <th>4</th>\n",
       "      <td>5</td>\n",
       "      <td>1618866871</td>\n",
       "      <td>56314.7</td>\n",
       "      <td>46807.7</td>\n",
       "      <td>BTC</td>\n",
       "    </tr>\n",
       "  </tbody>\n",
       "</table>\n",
       "</div>"
      ],
      "text/plain": [
       "   id        tmsp  priceUSD  priceEUR cryptoCurrency\n",
       "0   1  1618866864   56314.7   46807.7            BTC\n",
       "1   2  1618866866   56314.7   46807.7            BTC\n",
       "2   3  1618866867   56314.7   46807.7            BTC\n",
       "3   4  1618866869   56314.7   46807.7            BTC\n",
       "4   5  1618866871   56314.7   46807.7            BTC"
      ]
     },
     "execution_count": 284,
     "metadata": {},
     "output_type": "execute_result"
    }
   ],
   "source": [
    "stocks.rename({\"priceCurrencyOne\":\"priceUSD\"}, axis = 1, inplace = True)\n",
    "stocks.rename({\"priceCurrencyTwo\":\"priceEUR\"}, axis = 1, inplace = True)\n",
    "\n",
    "stocks.drop([\"currencyOne\", \"currencyTwo\"], axis = 1, inplace = True)\n",
    "stocks.head()"
   ]
  },
  {
   "cell_type": "markdown",
   "metadata": {},
   "source": [
    "Excluding all null values and taking separate BTC and XRP samples"
   ]
  },
  {
   "cell_type": "code",
   "execution_count": 285,
   "metadata": {},
   "outputs": [],
   "source": [
    "sample_BTC = stocks[(stocks['tmsp']!='null')\n",
    "                &(stocks['priceUSD']!='null')\n",
    "                &(stocks['priceEUR']!='null')\n",
    "               &(stocks['cryptoCurrency']=='BTC')].copy()"
   ]
  },
  {
   "cell_type": "code",
   "execution_count": 286,
   "metadata": {},
   "outputs": [],
   "source": [
    "sample_XRP = stocks[(stocks['tmsp']!='null')\n",
    "                &(stocks['priceUSD']!='null')\n",
    "                &(stocks['priceEUR']!='null')\n",
    "               &(stocks['cryptoCurrency']=='XRP')].copy()"
   ]
  },
  {
   "cell_type": "markdown",
   "metadata": {},
   "source": [
    "sample_BTC preprocessing"
   ]
  },
  {
   "cell_type": "code",
   "execution_count": 287,
   "metadata": {},
   "outputs": [],
   "source": [
    "def preprocess (sample):\n",
    "    sample.tmsp = [datetime.datetime.fromtimestamp(x) for x in sample.tmsp.astype(int)]\n",
    "    sample.priceUSD = sample.priceUSD.astype(float)\n",
    "    sample.priceEUR = sample.priceEUR.astype(float)\n",
    "    return sample"
   ]
  },
  {
   "cell_type": "code",
   "execution_count": 288,
   "metadata": {},
   "outputs": [],
   "source": [
    "sample_BTC = preprocess(sample_BTC)\n",
    "sample_XRP = preprocess(sample_XRP)"
   ]
  },
  {
   "cell_type": "code",
   "execution_count": 289,
   "metadata": {},
   "outputs": [
    {
     "data": {
      "text/plain": [
       "<AxesSubplot:xlabel='tmsp'>"
      ]
     },
     "execution_count": 289,
     "metadata": {},
     "output_type": "execute_result"
    },
    {
     "data": {
      "image/png": "[encoded data removed]",
      "text/plain": [
       "<Figure size 432x288 with 1 Axes>"
      ]
     },
     "metadata": {
      "needs_background": "light"
     },
     "output_type": "display_data"
    }
   ],
   "source": [
    "sample_BTC[(sample_BTC.tmsp>'2021-02-16 17:07:37')&(sample_BTC.tmsp<'2021-02-16 17:30:37')].plot(x='tmsp', y='priceEUR')"
   ]
  },
  {
   "cell_type": "code",
   "execution_count": 290,
   "metadata": {},
   "outputs": [
    {
     "data": {
      "text/plain": [
       "<AxesSubplot:xlabel='tmsp'>"
      ]
     },
     "execution_count": 290,
     "metadata": {},
     "output_type": "execute_result"
    },
    {
     "data": {
      "image/png": "[encoded data removed]",
      "text/plain": [
       "<Figure size 432x288 with 1 Axes>"
      ]
     },
     "metadata": {
      "needs_background": "light"
     },
     "output_type": "display_data"
    }
   ],
   "source": [
    "sample_BTC[(sample_BTC.tmsp>'2021-02-16 17:07:37')&(sample_BTC.tmsp<'2021-02-16 17:30:37')].plot(x='tmsp', y='priceUSD')"
   ]
  },
  {
   "cell_type": "code",
   "execution_count": 291,
   "metadata": {},
   "outputs": [
    {
     "data": {
      "text/plain": [
       "<AxesSubplot:xlabel='tmsp'>"
      ]
     },
     "execution_count": 291,
     "metadata": {},
     "output_type": "execute_result"
    },
    {
     "data": {
      "image/png": "[encoded data removed]",
      "text/plain": [
       "<Figure size 432x288 with 1 Axes>"
      ]
     },
     "metadata": {
      "needs_background": "light"
     },
     "output_type": "display_data"
    }
   ],
   "source": [
    "sample_BTC.plot(x='tmsp', y='priceEUR')"
   ]
  },
  {
   "cell_type": "code",
   "execution_count": 292,
   "metadata": {},
   "outputs": [
    {
     "data": {
      "text/plain": [
       "<AxesSubplot:xlabel='tmsp'>"
      ]
     },
     "execution_count": 292,
     "metadata": {},
     "output_type": "execute_result"
    },
    {
     "data": {
      "image/png": "[encoded data removed]",
      "text/plain": [
       "<Figure size 432x288 with 1 Axes>"
      ]
     },
     "metadata": {
      "needs_background": "light"
     },
     "output_type": "display_data"
    }
   ],
   "source": [
    "sample_BTC.plot(x='tmsp', y='priceUSD')"
   ]
  },
  {
   "cell_type": "code",
   "execution_count": 293,
   "metadata": {},
   "outputs": [],
   "source": [
    "sample_BTC[\"diff_eur\"] = (sample_BTC.priceEUR/sample_BTC.priceEUR.shift(1))-1\n",
    "sample_BTC[\"diff_usd\"] = (sample_BTC.priceUSD/sample_BTC.priceUSD.shift(1))-1"
   ]
  },
  {
   "cell_type": "code",
   "execution_count": 294,
   "metadata": {},
   "outputs": [
    {
     "data": {
      "text/html": [
       "<div>\n",
       "<style scoped>\n",
       "    .dataframe tbody tr th:only-of-type {\n",
       "        vertical-align: middle;\n",
       "    }\n",
       "\n",
       "    .dataframe tbody tr th {\n",
       "        vertical-align: top;\n",
       "    }\n",
       "\n",
       "    .dataframe thead th {\n",
       "        text-align: right;\n",
       "    }\n",
       "</style>\n",
       "<table border=\"1\" class=\"dataframe\">\n",
       "  <thead>\n",
       "    <tr style=\"text-align: right;\">\n",
       "      <th></th>\n",
       "      <th>id</th>\n",
       "      <th>tmsp</th>\n",
       "      <th>priceUSD</th>\n",
       "      <th>priceEUR</th>\n",
       "      <th>cryptoCurrency</th>\n",
       "      <th>diff_eur</th>\n",
       "      <th>diff_usd</th>\n",
       "    </tr>\n",
       "  </thead>\n",
       "  <tbody>\n",
       "    <tr>\n",
       "      <th>0</th>\n",
       "      <td>1</td>\n",
       "      <td>2021-04-19 23:14:24</td>\n",
       "      <td>56314.7</td>\n",
       "      <td>46807.7</td>\n",
       "      <td>BTC</td>\n",
       "      <td>NaN</td>\n",
       "      <td>NaN</td>\n",
       "    </tr>\n",
       "    <tr>\n",
       "      <th>1</th>\n",
       "      <td>2</td>\n",
       "      <td>2021-04-19 23:14:26</td>\n",
       "      <td>56314.7</td>\n",
       "      <td>46807.7</td>\n",
       "      <td>BTC</td>\n",
       "      <td>0.0</td>\n",
       "      <td>0.0</td>\n",
       "    </tr>\n",
       "    <tr>\n",
       "      <th>2</th>\n",
       "      <td>3</td>\n",
       "      <td>2021-04-19 23:14:27</td>\n",
       "      <td>56314.7</td>\n",
       "      <td>46807.7</td>\n",
       "      <td>BTC</td>\n",
       "      <td>0.0</td>\n",
       "      <td>0.0</td>\n",
       "    </tr>\n",
       "    <tr>\n",
       "      <th>3</th>\n",
       "      <td>4</td>\n",
       "      <td>2021-04-19 23:14:29</td>\n",
       "      <td>56314.7</td>\n",
       "      <td>46807.7</td>\n",
       "      <td>BTC</td>\n",
       "      <td>0.0</td>\n",
       "      <td>0.0</td>\n",
       "    </tr>\n",
       "    <tr>\n",
       "      <th>4</th>\n",
       "      <td>5</td>\n",
       "      <td>2021-04-19 23:14:31</td>\n",
       "      <td>56314.7</td>\n",
       "      <td>46807.7</td>\n",
       "      <td>BTC</td>\n",
       "      <td>0.0</td>\n",
       "      <td>0.0</td>\n",
       "    </tr>\n",
       "    <tr>\n",
       "      <th>5</th>\n",
       "      <td>6</td>\n",
       "      <td>2021-04-19 23:14:32</td>\n",
       "      <td>56314.7</td>\n",
       "      <td>46807.7</td>\n",
       "      <td>BTC</td>\n",
       "      <td>0.0</td>\n",
       "      <td>0.0</td>\n",
       "    </tr>\n",
       "  </tbody>\n",
       "</table>\n",
       "</div>"
      ],
      "text/plain": [
       "   id                tmsp  priceUSD  priceEUR cryptoCurrency  diff_eur  \\\n",
       "0   1 2021-04-19 23:14:24   56314.7   46807.7            BTC       NaN   \n",
       "1   2 2021-04-19 23:14:26   56314.7   46807.7            BTC       0.0   \n",
       "2   3 2021-04-19 23:14:27   56314.7   46807.7            BTC       0.0   \n",
       "3   4 2021-04-19 23:14:29   56314.7   46807.7            BTC       0.0   \n",
       "4   5 2021-04-19 23:14:31   56314.7   46807.7            BTC       0.0   \n",
       "5   6 2021-04-19 23:14:32   56314.7   46807.7            BTC       0.0   \n",
       "\n",
       "   diff_usd  \n",
       "0       NaN  \n",
       "1       0.0  \n",
       "2       0.0  \n",
       "3       0.0  \n",
       "4       0.0  \n",
       "5       0.0  "
      ]
     },
     "execution_count": 294,
     "metadata": {},
     "output_type": "execute_result"
    }
   ],
   "source": [
    "sample_BTC.head(6)"
   ]
  },
  {
   "cell_type": "code",
   "execution_count": 489,
   "metadata": {},
   "outputs": [],
   "source": [
    "timespan = 16\n",
    "sensitivity = 0"
   ]
  },
  {
   "cell_type": "code",
   "execution_count": 490,
   "metadata": {},
   "outputs": [],
   "source": [
    "def list_pop (my_list):\n",
    "    my_list_new = my_list.copy()\n",
    "    return list(filter(lambda a: a != \"wait\", my_list_new))[-1]"
   ]
  },
  {
   "cell_type": "code",
   "execution_count": 504,
   "metadata": {},
   "outputs": [
    {
     "name": "stderr",
     "output_type": "stream",
     "text": [
      "100%|█████████████████████████████████████████████████████████████████████████████| 1000/1000 [00:03<00:00, 279.64it/s]\n"
     ]
    }
   ],
   "source": [
    "import tqdm\n",
    "final_list = []\n",
    "\n",
    "for i in tqdm.tqdm(list(range(1000))): #53549\n",
    "    sample_BTC_new = sample_BTC[(sample_BTC.tmsp>=(sample_BTC.tmsp[i]- pd.to_timedelta(f\"00:00:{timespan}\"))) & (sample_BTC.tmsp<=sample_BTC.tmsp[i])].copy()\n",
    "    value = ((sample_BTC_new[sample_BTC_new.tmsp == sample_BTC_new.tmsp.max()].priceUSD.values[0])/sample_BTC_new[sample_BTC_new.tmsp== sample_BTC_new.tmsp.min()].priceUSD.values[0])-1 \n",
    "    \n",
    "    if ((abs(value) > sensitivity)) and value>0:\n",
    "        try:\n",
    "            if (list_pop(final_list) != 'buy') == True:\n",
    "                final_list.append(\"buy\") \n",
    "            else:\n",
    "                final_list.append(\"wait\") \n",
    "        except:\n",
    "            final_list.append(\"buy\")\n",
    "        \n",
    "    elif ((abs(value) > sensitivity)) and value<0: \n",
    "        try:\n",
    "            if (list_pop(final_list) != 'sell') == True:\n",
    "                final_list.append(\"sell\") \n",
    "            else:\n",
    "                final_list.append(\"wait\") \n",
    "        except:\n",
    "            final_list.append(\"sell\")\n",
    "    \n",
    "    else: \n",
    "        final_list.append(\"wait\")"
   ]
  },
  {
   "cell_type": "code",
   "execution_count": 498,
   "metadata": {},
   "outputs": [],
   "source": [
    "#sample_BTC.iloc[:100,:] = sample_BTC.iloc[:100,:].join(pd.DataFrame(final_list, columns = [\"index\", \"decision_\"]).set_index(\"index\"))"
   ]
  },
  {
   "cell_type": "code",
   "execution_count": 499,
   "metadata": {},
   "outputs": [],
   "source": [
    "#sample_BTC[\"decision\"] = np.where(sample_BTC.decision == \"sell\", \"not buy\", sample_BTC.decision)"
   ]
  },
  {
   "cell_type": "code",
   "execution_count": 509,
   "metadata": {},
   "outputs": [],
   "source": [
    "test = sample_BTC.iloc[90:200,:].join(pd.DataFrame(final_list, columns = [\"decision_\"])).head(30)"
   ]
  },
  {
   "cell_type": "code",
   "execution_count": 510,
   "metadata": {},
   "outputs": [
    {
     "data": {
      "text/html": [
       "<div>\n",
       "<style scoped>\n",
       "    .dataframe tbody tr th:only-of-type {\n",
       "        vertical-align: middle;\n",
       "    }\n",
       "\n",
       "    .dataframe tbody tr th {\n",
       "        vertical-align: top;\n",
       "    }\n",
       "\n",
       "    .dataframe thead th {\n",
       "        text-align: right;\n",
       "    }\n",
       "</style>\n",
       "<table border=\"1\" class=\"dataframe\">\n",
       "  <thead>\n",
       "    <tr style=\"text-align: right;\">\n",
       "      <th></th>\n",
       "      <th>id</th>\n",
       "      <th>tmsp</th>\n",
       "      <th>priceUSD</th>\n",
       "      <th>priceEUR</th>\n",
       "      <th>cryptoCurrency</th>\n",
       "      <th>diff_eur</th>\n",
       "      <th>diff_usd</th>\n",
       "      <th>decision</th>\n",
       "      <th>decision_</th>\n",
       "    </tr>\n",
       "  </thead>\n",
       "  <tbody>\n",
       "    <tr>\n",
       "      <th>90</th>\n",
       "      <td>91</td>\n",
       "      <td>2021-04-19 23:20:48</td>\n",
       "      <td>56278.7</td>\n",
       "      <td>46925.1</td>\n",
       "      <td>BTC</td>\n",
       "      <td>0.0</td>\n",
       "      <td>-0.000467</td>\n",
       "      <td>buy</td>\n",
       "      <td>wait</td>\n",
       "    </tr>\n",
       "    <tr>\n",
       "      <th>91</th>\n",
       "      <td>92</td>\n",
       "      <td>2021-04-19 23:20:50</td>\n",
       "      <td>56278.7</td>\n",
       "      <td>46925.1</td>\n",
       "      <td>BTC</td>\n",
       "      <td>0.0</td>\n",
       "      <td>0.000000</td>\n",
       "      <td>not buy</td>\n",
       "      <td>wait</td>\n",
       "    </tr>\n",
       "    <tr>\n",
       "      <th>92</th>\n",
       "      <td>93</td>\n",
       "      <td>2021-04-19 23:20:51</td>\n",
       "      <td>56278.7</td>\n",
       "      <td>46925.1</td>\n",
       "      <td>BTC</td>\n",
       "      <td>0.0</td>\n",
       "      <td>0.000000</td>\n",
       "      <td>not buy</td>\n",
       "      <td>wait</td>\n",
       "    </tr>\n",
       "    <tr>\n",
       "      <th>93</th>\n",
       "      <td>94</td>\n",
       "      <td>2021-04-19 23:20:53</td>\n",
       "      <td>56278.7</td>\n",
       "      <td>46925.1</td>\n",
       "      <td>BTC</td>\n",
       "      <td>0.0</td>\n",
       "      <td>0.000000</td>\n",
       "      <td>not buy</td>\n",
       "      <td>wait</td>\n",
       "    </tr>\n",
       "    <tr>\n",
       "      <th>94</th>\n",
       "      <td>95</td>\n",
       "      <td>2021-04-19 23:20:54</td>\n",
       "      <td>56278.7</td>\n",
       "      <td>46925.1</td>\n",
       "      <td>BTC</td>\n",
       "      <td>0.0</td>\n",
       "      <td>0.000000</td>\n",
       "      <td>not buy</td>\n",
       "      <td>wait</td>\n",
       "    </tr>\n",
       "    <tr>\n",
       "      <th>95</th>\n",
       "      <td>96</td>\n",
       "      <td>2021-04-19 23:20:56</td>\n",
       "      <td>56278.7</td>\n",
       "      <td>46925.1</td>\n",
       "      <td>BTC</td>\n",
       "      <td>0.0</td>\n",
       "      <td>0.000000</td>\n",
       "      <td>not buy</td>\n",
       "      <td>wait</td>\n",
       "    </tr>\n",
       "    <tr>\n",
       "      <th>96</th>\n",
       "      <td>97</td>\n",
       "      <td>2021-04-19 23:20:58</td>\n",
       "      <td>56273.1</td>\n",
       "      <td>46925.1</td>\n",
       "      <td>BTC</td>\n",
       "      <td>0.0</td>\n",
       "      <td>-0.000100</td>\n",
       "      <td>not buy</td>\n",
       "      <td>wait</td>\n",
       "    </tr>\n",
       "    <tr>\n",
       "      <th>97</th>\n",
       "      <td>98</td>\n",
       "      <td>2021-04-19 23:21:00</td>\n",
       "      <td>56273.1</td>\n",
       "      <td>46925.1</td>\n",
       "      <td>BTC</td>\n",
       "      <td>0.0</td>\n",
       "      <td>0.000000</td>\n",
       "      <td>not buy</td>\n",
       "      <td>wait</td>\n",
       "    </tr>\n",
       "    <tr>\n",
       "      <th>98</th>\n",
       "      <td>99</td>\n",
       "      <td>2021-04-19 23:21:01</td>\n",
       "      <td>56273.1</td>\n",
       "      <td>46925.1</td>\n",
       "      <td>BTC</td>\n",
       "      <td>0.0</td>\n",
       "      <td>0.000000</td>\n",
       "      <td>not buy</td>\n",
       "      <td>wait</td>\n",
       "    </tr>\n",
       "    <tr>\n",
       "      <th>99</th>\n",
       "      <td>100</td>\n",
       "      <td>2021-04-19 23:21:03</td>\n",
       "      <td>56273.1</td>\n",
       "      <td>46925.1</td>\n",
       "      <td>BTC</td>\n",
       "      <td>0.0</td>\n",
       "      <td>0.000000</td>\n",
       "      <td>not buy</td>\n",
       "      <td>wait</td>\n",
       "    </tr>\n",
       "    <tr>\n",
       "      <th>100</th>\n",
       "      <td>101</td>\n",
       "      <td>2021-04-19 23:21:05</td>\n",
       "      <td>56278.2</td>\n",
       "      <td>46925.1</td>\n",
       "      <td>BTC</td>\n",
       "      <td>0.0</td>\n",
       "      <td>0.000091</td>\n",
       "      <td>not buy</td>\n",
       "      <td>wait</td>\n",
       "    </tr>\n",
       "    <tr>\n",
       "      <th>101</th>\n",
       "      <td>102</td>\n",
       "      <td>2021-04-19 23:21:07</td>\n",
       "      <td>56278.2</td>\n",
       "      <td>46925.1</td>\n",
       "      <td>BTC</td>\n",
       "      <td>0.0</td>\n",
       "      <td>0.000000</td>\n",
       "      <td>not buy</td>\n",
       "      <td>wait</td>\n",
       "    </tr>\n",
       "    <tr>\n",
       "      <th>102</th>\n",
       "      <td>103</td>\n",
       "      <td>2021-04-19 23:21:09</td>\n",
       "      <td>56278.2</td>\n",
       "      <td>46925.1</td>\n",
       "      <td>BTC</td>\n",
       "      <td>0.0</td>\n",
       "      <td>0.000000</td>\n",
       "      <td>not buy</td>\n",
       "      <td>wait</td>\n",
       "    </tr>\n",
       "    <tr>\n",
       "      <th>103</th>\n",
       "      <td>104</td>\n",
       "      <td>2021-04-19 23:21:11</td>\n",
       "      <td>56278.2</td>\n",
       "      <td>46925.1</td>\n",
       "      <td>BTC</td>\n",
       "      <td>0.0</td>\n",
       "      <td>0.000000</td>\n",
       "      <td>not buy</td>\n",
       "      <td>wait</td>\n",
       "    </tr>\n",
       "    <tr>\n",
       "      <th>104</th>\n",
       "      <td>105</td>\n",
       "      <td>2021-04-19 23:21:13</td>\n",
       "      <td>56278.2</td>\n",
       "      <td>46925.1</td>\n",
       "      <td>BTC</td>\n",
       "      <td>0.0</td>\n",
       "      <td>0.000000</td>\n",
       "      <td>not buy</td>\n",
       "      <td>buy</td>\n",
       "    </tr>\n",
       "    <tr>\n",
       "      <th>105</th>\n",
       "      <td>106</td>\n",
       "      <td>2021-04-19 23:21:14</td>\n",
       "      <td>56278.2</td>\n",
       "      <td>46925.1</td>\n",
       "      <td>BTC</td>\n",
       "      <td>0.0</td>\n",
       "      <td>0.000000</td>\n",
       "      <td>not buy</td>\n",
       "      <td>wait</td>\n",
       "    </tr>\n",
       "    <tr>\n",
       "      <th>106</th>\n",
       "      <td>107</td>\n",
       "      <td>2021-04-19 23:21:16</td>\n",
       "      <td>56278.2</td>\n",
       "      <td>46925.1</td>\n",
       "      <td>BTC</td>\n",
       "      <td>0.0</td>\n",
       "      <td>0.000000</td>\n",
       "      <td>not buy</td>\n",
       "      <td>wait</td>\n",
       "    </tr>\n",
       "    <tr>\n",
       "      <th>107</th>\n",
       "      <td>108</td>\n",
       "      <td>2021-04-19 23:21:18</td>\n",
       "      <td>56278.2</td>\n",
       "      <td>46925.1</td>\n",
       "      <td>BTC</td>\n",
       "      <td>0.0</td>\n",
       "      <td>0.000000</td>\n",
       "      <td>not buy</td>\n",
       "      <td>wait</td>\n",
       "    </tr>\n",
       "    <tr>\n",
       "      <th>108</th>\n",
       "      <td>109</td>\n",
       "      <td>2021-04-19 23:21:19</td>\n",
       "      <td>56278.2</td>\n",
       "      <td>46925.1</td>\n",
       "      <td>BTC</td>\n",
       "      <td>0.0</td>\n",
       "      <td>0.000000</td>\n",
       "      <td>not buy</td>\n",
       "      <td>wait</td>\n",
       "    </tr>\n",
       "    <tr>\n",
       "      <th>109</th>\n",
       "      <td>110</td>\n",
       "      <td>2021-04-19 23:21:21</td>\n",
       "      <td>56278.2</td>\n",
       "      <td>46925.1</td>\n",
       "      <td>BTC</td>\n",
       "      <td>0.0</td>\n",
       "      <td>0.000000</td>\n",
       "      <td>not buy</td>\n",
       "      <td>wait</td>\n",
       "    </tr>\n",
       "    <tr>\n",
       "      <th>110</th>\n",
       "      <td>111</td>\n",
       "      <td>2021-04-19 23:21:22</td>\n",
       "      <td>56278.2</td>\n",
       "      <td>46925.1</td>\n",
       "      <td>BTC</td>\n",
       "      <td>0.0</td>\n",
       "      <td>0.000000</td>\n",
       "      <td>not buy</td>\n",
       "      <td>wait</td>\n",
       "    </tr>\n",
       "    <tr>\n",
       "      <th>111</th>\n",
       "      <td>112</td>\n",
       "      <td>2021-04-19 23:21:24</td>\n",
       "      <td>56278.2</td>\n",
       "      <td>46925.1</td>\n",
       "      <td>BTC</td>\n",
       "      <td>0.0</td>\n",
       "      <td>0.000000</td>\n",
       "      <td>not buy</td>\n",
       "      <td>wait</td>\n",
       "    </tr>\n",
       "    <tr>\n",
       "      <th>112</th>\n",
       "      <td>113</td>\n",
       "      <td>2021-04-19 23:21:26</td>\n",
       "      <td>56278.2</td>\n",
       "      <td>46925.1</td>\n",
       "      <td>BTC</td>\n",
       "      <td>0.0</td>\n",
       "      <td>0.000000</td>\n",
       "      <td>not buy</td>\n",
       "      <td>wait</td>\n",
       "    </tr>\n",
       "    <tr>\n",
       "      <th>113</th>\n",
       "      <td>114</td>\n",
       "      <td>2021-04-19 23:21:27</td>\n",
       "      <td>56278.2</td>\n",
       "      <td>46925.1</td>\n",
       "      <td>BTC</td>\n",
       "      <td>0.0</td>\n",
       "      <td>0.000000</td>\n",
       "      <td>not buy</td>\n",
       "      <td>wait</td>\n",
       "    </tr>\n",
       "    <tr>\n",
       "      <th>114</th>\n",
       "      <td>115</td>\n",
       "      <td>2021-04-19 23:21:29</td>\n",
       "      <td>56278.2</td>\n",
       "      <td>46925.1</td>\n",
       "      <td>BTC</td>\n",
       "      <td>0.0</td>\n",
       "      <td>0.000000</td>\n",
       "      <td>not buy</td>\n",
       "      <td>wait</td>\n",
       "    </tr>\n",
       "    <tr>\n",
       "      <th>115</th>\n",
       "      <td>116</td>\n",
       "      <td>2021-04-19 23:21:31</td>\n",
       "      <td>56278.2</td>\n",
       "      <td>46925.1</td>\n",
       "      <td>BTC</td>\n",
       "      <td>0.0</td>\n",
       "      <td>0.000000</td>\n",
       "      <td>not buy</td>\n",
       "      <td>wait</td>\n",
       "    </tr>\n",
       "    <tr>\n",
       "      <th>116</th>\n",
       "      <td>117</td>\n",
       "      <td>2021-04-19 23:21:33</td>\n",
       "      <td>56278.2</td>\n",
       "      <td>46925.1</td>\n",
       "      <td>BTC</td>\n",
       "      <td>0.0</td>\n",
       "      <td>0.000000</td>\n",
       "      <td>not buy</td>\n",
       "      <td>wait</td>\n",
       "    </tr>\n",
       "    <tr>\n",
       "      <th>117</th>\n",
       "      <td>118</td>\n",
       "      <td>2021-04-19 23:21:34</td>\n",
       "      <td>56275.1</td>\n",
       "      <td>46925.1</td>\n",
       "      <td>BTC</td>\n",
       "      <td>0.0</td>\n",
       "      <td>-0.000055</td>\n",
       "      <td>not buy</td>\n",
       "      <td>sell</td>\n",
       "    </tr>\n",
       "    <tr>\n",
       "      <th>118</th>\n",
       "      <td>119</td>\n",
       "      <td>2021-04-19 23:21:36</td>\n",
       "      <td>56275.1</td>\n",
       "      <td>46925.1</td>\n",
       "      <td>BTC</td>\n",
       "      <td>0.0</td>\n",
       "      <td>0.000000</td>\n",
       "      <td>not buy</td>\n",
       "      <td>wait</td>\n",
       "    </tr>\n",
       "    <tr>\n",
       "      <th>119</th>\n",
       "      <td>120</td>\n",
       "      <td>2021-04-19 23:21:38</td>\n",
       "      <td>56275.1</td>\n",
       "      <td>46925.1</td>\n",
       "      <td>BTC</td>\n",
       "      <td>0.0</td>\n",
       "      <td>0.000000</td>\n",
       "      <td>not buy</td>\n",
       "      <td>wait</td>\n",
       "    </tr>\n",
       "  </tbody>\n",
       "</table>\n",
       "</div>"
      ],
      "text/plain": [
       "      id                tmsp  priceUSD  priceEUR cryptoCurrency  diff_eur  \\\n",
       "90    91 2021-04-19 23:20:48   56278.7   46925.1            BTC       0.0   \n",
       "91    92 2021-04-19 23:20:50   56278.7   46925.1            BTC       0.0   \n",
       "92    93 2021-04-19 23:20:51   56278.7   46925.1            BTC       0.0   \n",
       "93    94 2021-04-19 23:20:53   56278.7   46925.1            BTC       0.0   \n",
       "94    95 2021-04-19 23:20:54   56278.7   46925.1            BTC       0.0   \n",
       "95    96 2021-04-19 23:20:56   56278.7   46925.1            BTC       0.0   \n",
       "96    97 2021-04-19 23:20:58   56273.1   46925.1            BTC       0.0   \n",
       "97    98 2021-04-19 23:21:00   56273.1   46925.1            BTC       0.0   \n",
       "98    99 2021-04-19 23:21:01   56273.1   46925.1            BTC       0.0   \n",
       "99   100 2021-04-19 23:21:03   56273.1   46925.1            BTC       0.0   \n",
       "100  101 2021-04-19 23:21:05   56278.2   46925.1            BTC       0.0   \n",
       "101  102 2021-04-19 23:21:07   56278.2   46925.1            BTC       0.0   \n",
       "102  103 2021-04-19 23:21:09   56278.2   46925.1            BTC       0.0   \n",
       "103  104 2021-04-19 23:21:11   56278.2   46925.1            BTC       0.0   \n",
       "104  105 2021-04-19 23:21:13   56278.2   46925.1            BTC       0.0   \n",
       "105  106 2021-04-19 23:21:14   56278.2   46925.1            BTC       0.0   \n",
       "106  107 2021-04-19 23:21:16   56278.2   46925.1            BTC       0.0   \n",
       "107  108 2021-04-19 23:21:18   56278.2   46925.1            BTC       0.0   \n",
       "108  109 2021-04-19 23:21:19   56278.2   46925.1            BTC       0.0   \n",
       "109  110 2021-04-19 23:21:21   56278.2   46925.1            BTC       0.0   \n",
       "110  111 2021-04-19 23:21:22   56278.2   46925.1            BTC       0.0   \n",
       "111  112 2021-04-19 23:21:24   56278.2   46925.1            BTC       0.0   \n",
       "112  113 2021-04-19 23:21:26   56278.2   46925.1            BTC       0.0   \n",
       "113  114 2021-04-19 23:21:27   56278.2   46925.1            BTC       0.0   \n",
       "114  115 2021-04-19 23:21:29   56278.2   46925.1            BTC       0.0   \n",
       "115  116 2021-04-19 23:21:31   56278.2   46925.1            BTC       0.0   \n",
       "116  117 2021-04-19 23:21:33   56278.2   46925.1            BTC       0.0   \n",
       "117  118 2021-04-19 23:21:34   56275.1   46925.1            BTC       0.0   \n",
       "118  119 2021-04-19 23:21:36   56275.1   46925.1            BTC       0.0   \n",
       "119  120 2021-04-19 23:21:38   56275.1   46925.1            BTC       0.0   \n",
       "\n",
       "     diff_usd decision decision_  \n",
       "90  -0.000467      buy      wait  \n",
       "91   0.000000  not buy      wait  \n",
       "92   0.000000  not buy      wait  \n",
       "93   0.000000  not buy      wait  \n",
       "94   0.000000  not buy      wait  \n",
       "95   0.000000  not buy      wait  \n",
       "96  -0.000100  not buy      wait  \n",
       "97   0.000000  not buy      wait  \n",
       "98   0.000000  not buy      wait  \n",
       "99   0.000000  not buy      wait  \n",
       "100  0.000091  not buy      wait  \n",
       "101  0.000000  not buy      wait  \n",
       "102  0.000000  not buy      wait  \n",
       "103  0.000000  not buy      wait  \n",
       "104  0.000000  not buy       buy  \n",
       "105  0.000000  not buy      wait  \n",
       "106  0.000000  not buy      wait  \n",
       "107  0.000000  not buy      wait  \n",
       "108  0.000000  not buy      wait  \n",
       "109  0.000000  not buy      wait  \n",
       "110  0.000000  not buy      wait  \n",
       "111  0.000000  not buy      wait  \n",
       "112  0.000000  not buy      wait  \n",
       "113  0.000000  not buy      wait  \n",
       "114  0.000000  not buy      wait  \n",
       "115  0.000000  not buy      wait  \n",
       "116  0.000000  not buy      wait  \n",
       "117 -0.000055  not buy      sell  \n",
       "118  0.000000  not buy      wait  \n",
       "119  0.000000  not buy      wait  "
      ]
     },
     "execution_count": 510,
     "metadata": {},
     "output_type": "execute_result"
    }
   ],
   "source": [
    "test"
   ]
  },
  {
   "cell_type": "code",
   "execution_count": 506,
   "metadata": {},
   "outputs": [
    {
     "data": {
      "text/html": [
       "<div>\n",
       "<style scoped>\n",
       "    .dataframe tbody tr th:only-of-type {\n",
       "        vertical-align: middle;\n",
       "    }\n",
       "\n",
       "    .dataframe tbody tr th {\n",
       "        vertical-align: top;\n",
       "    }\n",
       "\n",
       "    .dataframe thead th {\n",
       "        text-align: right;\n",
       "    }\n",
       "</style>\n",
       "<table border=\"1\" class=\"dataframe\">\n",
       "  <thead>\n",
       "    <tr style=\"text-align: right;\">\n",
       "      <th></th>\n",
       "      <th>id</th>\n",
       "      <th>tmsp</th>\n",
       "      <th>priceUSD</th>\n",
       "      <th>priceEUR</th>\n",
       "      <th>cryptoCurrency</th>\n",
       "      <th>diff_eur</th>\n",
       "      <th>diff_usd</th>\n",
       "      <th>decision</th>\n",
       "      <th>decision_</th>\n",
       "    </tr>\n",
       "  </thead>\n",
       "  <tbody>\n",
       "    <tr>\n",
       "      <th>104</th>\n",
       "      <td>105</td>\n",
       "      <td>2021-04-19 23:21:13</td>\n",
       "      <td>56278.2</td>\n",
       "      <td>46925.1</td>\n",
       "      <td>BTC</td>\n",
       "      <td>0.0</td>\n",
       "      <td>0.000000</td>\n",
       "      <td>not buy</td>\n",
       "      <td>buy</td>\n",
       "    </tr>\n",
       "    <tr>\n",
       "      <th>141</th>\n",
       "      <td>142</td>\n",
       "      <td>2021-04-19 23:27:15</td>\n",
       "      <td>56166.7</td>\n",
       "      <td>46925.1</td>\n",
       "      <td>BTC</td>\n",
       "      <td>0.0</td>\n",
       "      <td>0.000499</td>\n",
       "      <td>not buy</td>\n",
       "      <td>buy</td>\n",
       "    </tr>\n",
       "    <tr>\n",
       "      <th>239</th>\n",
       "      <td>240</td>\n",
       "      <td>2021-04-19 23:30:28</td>\n",
       "      <td>56010.7</td>\n",
       "      <td>46925.1</td>\n",
       "      <td>BTC</td>\n",
       "      <td>0.0</td>\n",
       "      <td>0.000000</td>\n",
       "      <td>not buy</td>\n",
       "      <td>buy</td>\n",
       "    </tr>\n",
       "    <tr>\n",
       "      <th>351</th>\n",
       "      <td>352</td>\n",
       "      <td>2021-04-19 23:33:51</td>\n",
       "      <td>56028.1</td>\n",
       "      <td>46538.6</td>\n",
       "      <td>BTC</td>\n",
       "      <td>0.0</td>\n",
       "      <td>0.000109</td>\n",
       "      <td>not buy</td>\n",
       "      <td>buy</td>\n",
       "    </tr>\n",
       "    <tr>\n",
       "      <th>504</th>\n",
       "      <td>505</td>\n",
       "      <td>2021-04-19 23:38:26</td>\n",
       "      <td>56167.4</td>\n",
       "      <td>46885.6</td>\n",
       "      <td>BTC</td>\n",
       "      <td>0.0</td>\n",
       "      <td>0.000182</td>\n",
       "      <td>not buy</td>\n",
       "      <td>buy</td>\n",
       "    </tr>\n",
       "    <tr>\n",
       "      <th>529</th>\n",
       "      <td>530</td>\n",
       "      <td>2021-04-19 23:39:08</td>\n",
       "      <td>56177.4</td>\n",
       "      <td>46885.5</td>\n",
       "      <td>BTC</td>\n",
       "      <td>0.0</td>\n",
       "      <td>0.000000</td>\n",
       "      <td>not buy</td>\n",
       "      <td>buy</td>\n",
       "    </tr>\n",
       "    <tr>\n",
       "      <th>568</th>\n",
       "      <td>569</td>\n",
       "      <td>2021-04-19 23:42:09</td>\n",
       "      <td>56404.1</td>\n",
       "      <td>47072.6</td>\n",
       "      <td>BTC</td>\n",
       "      <td>0.0</td>\n",
       "      <td>0.000656</td>\n",
       "      <td>not buy</td>\n",
       "      <td>buy</td>\n",
       "    </tr>\n",
       "    <tr>\n",
       "      <th>624</th>\n",
       "      <td>625</td>\n",
       "      <td>2021-04-19 23:43:48</td>\n",
       "      <td>56571.2</td>\n",
       "      <td>47205.0</td>\n",
       "      <td>BTC</td>\n",
       "      <td>0.0</td>\n",
       "      <td>0.000000</td>\n",
       "      <td>not buy</td>\n",
       "      <td>buy</td>\n",
       "    </tr>\n",
       "    <tr>\n",
       "      <th>695</th>\n",
       "      <td>696</td>\n",
       "      <td>2021-04-19 23:46:02</td>\n",
       "      <td>56574.3</td>\n",
       "      <td>47205.0</td>\n",
       "      <td>BTC</td>\n",
       "      <td>0.0</td>\n",
       "      <td>0.000044</td>\n",
       "      <td>not buy</td>\n",
       "      <td>buy</td>\n",
       "    </tr>\n",
       "    <tr>\n",
       "      <th>701</th>\n",
       "      <td>702</td>\n",
       "      <td>2021-04-19 23:46:14</td>\n",
       "      <td>56574.3</td>\n",
       "      <td>47205.0</td>\n",
       "      <td>BTC</td>\n",
       "      <td>0.0</td>\n",
       "      <td>0.000046</td>\n",
       "      <td>not buy</td>\n",
       "      <td>buy</td>\n",
       "    </tr>\n",
       "    <tr>\n",
       "      <th>769</th>\n",
       "      <td>770</td>\n",
       "      <td>2021-04-19 23:48:18</td>\n",
       "      <td>56634.5</td>\n",
       "      <td>47205.0</td>\n",
       "      <td>BTC</td>\n",
       "      <td>0.0</td>\n",
       "      <td>0.000000</td>\n",
       "      <td>not buy</td>\n",
       "      <td>buy</td>\n",
       "    </tr>\n",
       "    <tr>\n",
       "      <th>860</th>\n",
       "      <td>861</td>\n",
       "      <td>2021-04-20 00:25:34</td>\n",
       "      <td>56264.5</td>\n",
       "      <td>46742.9</td>\n",
       "      <td>BTC</td>\n",
       "      <td>0.0</td>\n",
       "      <td>0.000011</td>\n",
       "      <td>not buy</td>\n",
       "      <td>buy</td>\n",
       "    </tr>\n",
       "    <tr>\n",
       "      <th>916</th>\n",
       "      <td>917</td>\n",
       "      <td>2021-04-20 00:27:21</td>\n",
       "      <td>56220.7</td>\n",
       "      <td>46742.9</td>\n",
       "      <td>BTC</td>\n",
       "      <td>0.0</td>\n",
       "      <td>0.000395</td>\n",
       "      <td>not buy</td>\n",
       "      <td>buy</td>\n",
       "    </tr>\n",
       "    <tr>\n",
       "      <th>960</th>\n",
       "      <td>961</td>\n",
       "      <td>2021-04-20 00:28:39</td>\n",
       "      <td>56220.9</td>\n",
       "      <td>46742.9</td>\n",
       "      <td>BTC</td>\n",
       "      <td>0.0</td>\n",
       "      <td>0.000052</td>\n",
       "      <td>not buy</td>\n",
       "      <td>buy</td>\n",
       "    </tr>\n",
       "  </tbody>\n",
       "</table>\n",
       "</div>"
      ],
      "text/plain": [
       "      id                tmsp  priceUSD  priceEUR cryptoCurrency  diff_eur  \\\n",
       "104  105 2021-04-19 23:21:13   56278.2   46925.1            BTC       0.0   \n",
       "141  142 2021-04-19 23:27:15   56166.7   46925.1            BTC       0.0   \n",
       "239  240 2021-04-19 23:30:28   56010.7   46925.1            BTC       0.0   \n",
       "351  352 2021-04-19 23:33:51   56028.1   46538.6            BTC       0.0   \n",
       "504  505 2021-04-19 23:38:26   56167.4   46885.6            BTC       0.0   \n",
       "529  530 2021-04-19 23:39:08   56177.4   46885.5            BTC       0.0   \n",
       "568  569 2021-04-19 23:42:09   56404.1   47072.6            BTC       0.0   \n",
       "624  625 2021-04-19 23:43:48   56571.2   47205.0            BTC       0.0   \n",
       "695  696 2021-04-19 23:46:02   56574.3   47205.0            BTC       0.0   \n",
       "701  702 2021-04-19 23:46:14   56574.3   47205.0            BTC       0.0   \n",
       "769  770 2021-04-19 23:48:18   56634.5   47205.0            BTC       0.0   \n",
       "860  861 2021-04-20 00:25:34   56264.5   46742.9            BTC       0.0   \n",
       "916  917 2021-04-20 00:27:21   56220.7   46742.9            BTC       0.0   \n",
       "960  961 2021-04-20 00:28:39   56220.9   46742.9            BTC       0.0   \n",
       "\n",
       "     diff_usd decision decision_  \n",
       "104  0.000000  not buy       buy  \n",
       "141  0.000499  not buy       buy  \n",
       "239  0.000000  not buy       buy  \n",
       "351  0.000109  not buy       buy  \n",
       "504  0.000182  not buy       buy  \n",
       "529  0.000000  not buy       buy  \n",
       "568  0.000656  not buy       buy  \n",
       "624  0.000000  not buy       buy  \n",
       "695  0.000044  not buy       buy  \n",
       "701  0.000046  not buy       buy  \n",
       "769  0.000000  not buy       buy  \n",
       "860  0.000011  not buy       buy  \n",
       "916  0.000395  not buy       buy  \n",
       "960  0.000052  not buy       buy  "
      ]
     },
     "execution_count": 506,
     "metadata": {},
     "output_type": "execute_result"
    }
   ],
   "source": [
    "test[test.decision_ == \"buy\"]"
   ]
  },
  {
   "cell_type": "code",
   "execution_count": 384,
   "metadata": {},
   "outputs": [
    {
     "ename": "ValueError",
     "evalue": "Could not interpret value `tmsp` for parameter `x`",
     "output_type": "error",
     "traceback": [
      "\u001b[1;31m---------------------------------------------------------------------------\u001b[0m",
      "\u001b[1;31mValueError\u001b[0m                                Traceback (most recent call last)",
      "\u001b[1;32m<ipython-input-384-0d008e56a95d>\u001b[0m in \u001b[0;36m<module>\u001b[1;34m\u001b[0m\n\u001b[0;32m      3\u001b[0m \u001b[1;33m\u001b[0m\u001b[0m\n\u001b[0;32m      4\u001b[0m \u001b[1;32mimport\u001b[0m \u001b[0mseaborn\u001b[0m \u001b[1;32mas\u001b[0m \u001b[0msns\u001b[0m\u001b[1;33m\u001b[0m\u001b[1;33m\u001b[0m\u001b[0m\n\u001b[1;32m----> 5\u001b[1;33m \u001b[0msns\u001b[0m\u001b[1;33m.\u001b[0m\u001b[0mlineplot\u001b[0m\u001b[1;33m(\u001b[0m\u001b[0msample_BTC\u001b[0m\u001b[1;33m=\u001b[0m\u001b[0msample_BTC\u001b[0m\u001b[1;33m[\u001b[0m\u001b[1;33m(\u001b[0m\u001b[1;33m(\u001b[0m\u001b[0msample_BTC\u001b[0m\u001b[1;33m.\u001b[0m\u001b[0mtmsp\u001b[0m\u001b[1;33m>\u001b[0m\u001b[0mfrom_\u001b[0m\u001b[1;33m)\u001b[0m\u001b[1;33m&\u001b[0m\u001b[1;33m(\u001b[0m\u001b[0msample_BTC\u001b[0m\u001b[1;33m.\u001b[0m\u001b[0mtmsp\u001b[0m\u001b[1;33m<\u001b[0m\u001b[0mto\u001b[0m\u001b[1;33m)\u001b[0m\u001b[1;33m)\u001b[0m \u001b[1;33m&\u001b[0m \u001b[1;33m(\u001b[0m\u001b[0mabs\u001b[0m\u001b[1;33m(\u001b[0m\u001b[0msample_BTC\u001b[0m\u001b[1;33m.\u001b[0m\u001b[0mdiff_eur\u001b[0m\u001b[1;33m)\u001b[0m\u001b[1;33m>\u001b[0m\u001b[1;36m0.00001\u001b[0m\u001b[1;33m)\u001b[0m\u001b[1;33m]\u001b[0m\u001b[1;33m,\u001b[0m \u001b[0mx\u001b[0m \u001b[1;33m=\u001b[0m \u001b[1;34m\"tmsp\"\u001b[0m\u001b[1;33m,\u001b[0m \u001b[0my\u001b[0m \u001b[1;33m=\u001b[0m\u001b[1;34m\"diff_eur\"\u001b[0m\u001b[1;33m)\u001b[0m\u001b[1;33m\u001b[0m\u001b[1;33m\u001b[0m\u001b[0m\n\u001b[0m\u001b[0;32m      6\u001b[0m \u001b[0msns\u001b[0m\u001b[1;33m.\u001b[0m\u001b[0mlineplot\u001b[0m\u001b[1;33m(\u001b[0m\u001b[0msample_BTC\u001b[0m\u001b[1;33m=\u001b[0m\u001b[0msample_BTC\u001b[0m\u001b[1;33m[\u001b[0m\u001b[1;33m(\u001b[0m\u001b[1;33m(\u001b[0m\u001b[0msample_BTC\u001b[0m\u001b[1;33m.\u001b[0m\u001b[0mtmsp\u001b[0m\u001b[1;33m>\u001b[0m\u001b[0mfrom_\u001b[0m\u001b[1;33m)\u001b[0m\u001b[1;33m&\u001b[0m\u001b[1;33m(\u001b[0m\u001b[0msample_BTC\u001b[0m\u001b[1;33m.\u001b[0m\u001b[0mtmsp\u001b[0m\u001b[1;33m<\u001b[0m\u001b[0mto\u001b[0m\u001b[1;33m)\u001b[0m\u001b[1;33m)\u001b[0m \u001b[1;33m&\u001b[0m \u001b[1;33m(\u001b[0m\u001b[0mabs\u001b[0m\u001b[1;33m(\u001b[0m\u001b[0msample_BTC\u001b[0m\u001b[1;33m.\u001b[0m\u001b[0mdiff_eur\u001b[0m\u001b[1;33m)\u001b[0m\u001b[1;33m>\u001b[0m\u001b[1;36m0.00001\u001b[0m\u001b[1;33m)\u001b[0m\u001b[1;33m]\u001b[0m\u001b[1;33m,\u001b[0m \u001b[0mx\u001b[0m \u001b[1;33m=\u001b[0m \u001b[1;34m\"tmsp\"\u001b[0m\u001b[1;33m,\u001b[0m \u001b[0my\u001b[0m \u001b[1;33m=\u001b[0m\u001b[1;34m\"diff_usd\"\u001b[0m\u001b[1;33m)\u001b[0m\u001b[1;33m\u001b[0m\u001b[1;33m\u001b[0m\u001b[0m\n",
      "\u001b[1;32mc:\\users\\acer\\appdata\\local\\programs\\python\\python38\\lib\\site-packages\\seaborn\\_decorators.py\u001b[0m in \u001b[0;36minner_f\u001b[1;34m(*args, **kwargs)\u001b[0m\n\u001b[0;32m     44\u001b[0m             )\n\u001b[0;32m     45\u001b[0m         \u001b[0mkwargs\u001b[0m\u001b[1;33m.\u001b[0m\u001b[0mupdate\u001b[0m\u001b[1;33m(\u001b[0m\u001b[1;33m{\u001b[0m\u001b[0mk\u001b[0m\u001b[1;33m:\u001b[0m \u001b[0marg\u001b[0m \u001b[1;32mfor\u001b[0m \u001b[0mk\u001b[0m\u001b[1;33m,\u001b[0m \u001b[0marg\u001b[0m \u001b[1;32min\u001b[0m \u001b[0mzip\u001b[0m\u001b[1;33m(\u001b[0m\u001b[0msig\u001b[0m\u001b[1;33m.\u001b[0m\u001b[0mparameters\u001b[0m\u001b[1;33m,\u001b[0m \u001b[0margs\u001b[0m\u001b[1;33m)\u001b[0m\u001b[1;33m}\u001b[0m\u001b[1;33m)\u001b[0m\u001b[1;33m\u001b[0m\u001b[1;33m\u001b[0m\u001b[0m\n\u001b[1;32m---> 46\u001b[1;33m         \u001b[1;32mreturn\u001b[0m \u001b[0mf\u001b[0m\u001b[1;33m(\u001b[0m\u001b[1;33m**\u001b[0m\u001b[0mkwargs\u001b[0m\u001b[1;33m)\u001b[0m\u001b[1;33m\u001b[0m\u001b[1;33m\u001b[0m\u001b[0m\n\u001b[0m\u001b[0;32m     47\u001b[0m     \u001b[1;32mreturn\u001b[0m \u001b[0minner_f\u001b[0m\u001b[1;33m\u001b[0m\u001b[1;33m\u001b[0m\u001b[0m\n\u001b[0;32m     48\u001b[0m \u001b[1;33m\u001b[0m\u001b[0m\n",
      "\u001b[1;32mc:\\users\\acer\\appdata\\local\\programs\\python\\python38\\lib\\site-packages\\seaborn\\relational.py\u001b[0m in \u001b[0;36mlineplot\u001b[1;34m(x, y, hue, size, style, data, palette, hue_order, hue_norm, sizes, size_order, size_norm, dashes, markers, style_order, units, estimator, ci, n_boot, seed, sort, err_style, err_kws, legend, ax, **kwargs)\u001b[0m\n\u001b[0;32m    683\u001b[0m \u001b[1;33m\u001b[0m\u001b[0m\n\u001b[0;32m    684\u001b[0m     \u001b[0mvariables\u001b[0m \u001b[1;33m=\u001b[0m \u001b[0m_LinePlotter\u001b[0m\u001b[1;33m.\u001b[0m\u001b[0mget_semantics\u001b[0m\u001b[1;33m(\u001b[0m\u001b[0mlocals\u001b[0m\u001b[1;33m(\u001b[0m\u001b[1;33m)\u001b[0m\u001b[1;33m)\u001b[0m\u001b[1;33m\u001b[0m\u001b[1;33m\u001b[0m\u001b[0m\n\u001b[1;32m--> 685\u001b[1;33m     p = _LinePlotter(\n\u001b[0m\u001b[0;32m    686\u001b[0m         \u001b[0mdata\u001b[0m\u001b[1;33m=\u001b[0m\u001b[0mdata\u001b[0m\u001b[1;33m,\u001b[0m \u001b[0mvariables\u001b[0m\u001b[1;33m=\u001b[0m\u001b[0mvariables\u001b[0m\u001b[1;33m,\u001b[0m\u001b[1;33m\u001b[0m\u001b[1;33m\u001b[0m\u001b[0m\n\u001b[0;32m    687\u001b[0m         \u001b[0mestimator\u001b[0m\u001b[1;33m=\u001b[0m\u001b[0mestimator\u001b[0m\u001b[1;33m,\u001b[0m \u001b[0mci\u001b[0m\u001b[1;33m=\u001b[0m\u001b[0mci\u001b[0m\u001b[1;33m,\u001b[0m \u001b[0mn_boot\u001b[0m\u001b[1;33m=\u001b[0m\u001b[0mn_boot\u001b[0m\u001b[1;33m,\u001b[0m \u001b[0mseed\u001b[0m\u001b[1;33m=\u001b[0m\u001b[0mseed\u001b[0m\u001b[1;33m,\u001b[0m\u001b[1;33m\u001b[0m\u001b[1;33m\u001b[0m\u001b[0m\n",
      "\u001b[1;32mc:\\users\\acer\\appdata\\local\\programs\\python\\python38\\lib\\site-packages\\seaborn\\relational.py\u001b[0m in \u001b[0;36m__init__\u001b[1;34m(self, data, variables, estimator, ci, n_boot, seed, sort, err_style, err_kws, legend)\u001b[0m\n\u001b[0;32m    365\u001b[0m         )\n\u001b[0;32m    366\u001b[0m \u001b[1;33m\u001b[0m\u001b[0m\n\u001b[1;32m--> 367\u001b[1;33m         \u001b[0msuper\u001b[0m\u001b[1;33m(\u001b[0m\u001b[1;33m)\u001b[0m\u001b[1;33m.\u001b[0m\u001b[0m__init__\u001b[0m\u001b[1;33m(\u001b[0m\u001b[0mdata\u001b[0m\u001b[1;33m=\u001b[0m\u001b[0mdata\u001b[0m\u001b[1;33m,\u001b[0m \u001b[0mvariables\u001b[0m\u001b[1;33m=\u001b[0m\u001b[0mvariables\u001b[0m\u001b[1;33m)\u001b[0m\u001b[1;33m\u001b[0m\u001b[1;33m\u001b[0m\u001b[0m\n\u001b[0m\u001b[0;32m    368\u001b[0m \u001b[1;33m\u001b[0m\u001b[0m\n\u001b[0;32m    369\u001b[0m         \u001b[0mself\u001b[0m\u001b[1;33m.\u001b[0m\u001b[0mestimator\u001b[0m \u001b[1;33m=\u001b[0m \u001b[0mestimator\u001b[0m\u001b[1;33m\u001b[0m\u001b[1;33m\u001b[0m\u001b[0m\n",
      "\u001b[1;32mc:\\users\\acer\\appdata\\local\\programs\\python\\python38\\lib\\site-packages\\seaborn\\_core.py\u001b[0m in \u001b[0;36m__init__\u001b[1;34m(self, data, variables)\u001b[0m\n\u001b[0;32m    602\u001b[0m     \u001b[1;32mdef\u001b[0m \u001b[0m__init__\u001b[0m\u001b[1;33m(\u001b[0m\u001b[0mself\u001b[0m\u001b[1;33m,\u001b[0m \u001b[0mdata\u001b[0m\u001b[1;33m=\u001b[0m\u001b[1;32mNone\u001b[0m\u001b[1;33m,\u001b[0m \u001b[0mvariables\u001b[0m\u001b[1;33m=\u001b[0m\u001b[1;33m{\u001b[0m\u001b[1;33m}\u001b[0m\u001b[1;33m)\u001b[0m\u001b[1;33m:\u001b[0m\u001b[1;33m\u001b[0m\u001b[1;33m\u001b[0m\u001b[0m\n\u001b[0;32m    603\u001b[0m \u001b[1;33m\u001b[0m\u001b[0m\n\u001b[1;32m--> 604\u001b[1;33m         \u001b[0mself\u001b[0m\u001b[1;33m.\u001b[0m\u001b[0massign_variables\u001b[0m\u001b[1;33m(\u001b[0m\u001b[0mdata\u001b[0m\u001b[1;33m,\u001b[0m \u001b[0mvariables\u001b[0m\u001b[1;33m)\u001b[0m\u001b[1;33m\u001b[0m\u001b[1;33m\u001b[0m\u001b[0m\n\u001b[0m\u001b[0;32m    605\u001b[0m \u001b[1;33m\u001b[0m\u001b[0m\n\u001b[0;32m    606\u001b[0m         \u001b[1;32mfor\u001b[0m \u001b[0mvar\u001b[0m\u001b[1;33m,\u001b[0m \u001b[0mcls\u001b[0m \u001b[1;32min\u001b[0m \u001b[0mself\u001b[0m\u001b[1;33m.\u001b[0m\u001b[0m_semantic_mappings\u001b[0m\u001b[1;33m.\u001b[0m\u001b[0mitems\u001b[0m\u001b[1;33m(\u001b[0m\u001b[1;33m)\u001b[0m\u001b[1;33m:\u001b[0m\u001b[1;33m\u001b[0m\u001b[1;33m\u001b[0m\u001b[0m\n",
      "\u001b[1;32mc:\\users\\acer\\appdata\\local\\programs\\python\\python38\\lib\\site-packages\\seaborn\\_core.py\u001b[0m in \u001b[0;36massign_variables\u001b[1;34m(self, data, variables)\u001b[0m\n\u001b[0;32m    665\u001b[0m         \u001b[1;32melse\u001b[0m\u001b[1;33m:\u001b[0m\u001b[1;33m\u001b[0m\u001b[1;33m\u001b[0m\u001b[0m\n\u001b[0;32m    666\u001b[0m             \u001b[0mself\u001b[0m\u001b[1;33m.\u001b[0m\u001b[0minput_format\u001b[0m \u001b[1;33m=\u001b[0m \u001b[1;34m\"long\"\u001b[0m\u001b[1;33m\u001b[0m\u001b[1;33m\u001b[0m\u001b[0m\n\u001b[1;32m--> 667\u001b[1;33m             plot_data, variables = self._assign_variables_longform(\n\u001b[0m\u001b[0;32m    668\u001b[0m                 \u001b[0mdata\u001b[0m\u001b[1;33m,\u001b[0m \u001b[1;33m**\u001b[0m\u001b[0mvariables\u001b[0m\u001b[1;33m,\u001b[0m\u001b[1;33m\u001b[0m\u001b[1;33m\u001b[0m\u001b[0m\n\u001b[0;32m    669\u001b[0m             )\n",
      "\u001b[1;32mc:\\users\\acer\\appdata\\local\\programs\\python\\python38\\lib\\site-packages\\seaborn\\_core.py\u001b[0m in \u001b[0;36m_assign_variables_longform\u001b[1;34m(self, data, **kwargs)\u001b[0m\n\u001b[0;32m    900\u001b[0m \u001b[1;33m\u001b[0m\u001b[0m\n\u001b[0;32m    901\u001b[0m                 \u001b[0merr\u001b[0m \u001b[1;33m=\u001b[0m \u001b[1;34mf\"Could not interpret value `{val}` for parameter `{key}`\"\u001b[0m\u001b[1;33m\u001b[0m\u001b[1;33m\u001b[0m\u001b[0m\n\u001b[1;32m--> 902\u001b[1;33m                 \u001b[1;32mraise\u001b[0m \u001b[0mValueError\u001b[0m\u001b[1;33m(\u001b[0m\u001b[0merr\u001b[0m\u001b[1;33m)\u001b[0m\u001b[1;33m\u001b[0m\u001b[1;33m\u001b[0m\u001b[0m\n\u001b[0m\u001b[0;32m    903\u001b[0m \u001b[1;33m\u001b[0m\u001b[0m\n\u001b[0;32m    904\u001b[0m             \u001b[1;32melse\u001b[0m\u001b[1;33m:\u001b[0m\u001b[1;33m\u001b[0m\u001b[1;33m\u001b[0m\u001b[0m\n",
      "\u001b[1;31mValueError\u001b[0m: Could not interpret value `tmsp` for parameter `x`"
     ]
    }
   ],
   "source": [
    "from_ = '2021-04-16 0:10:37'\n",
    "to = '2021-04-16 23:13:37'\n",
    "\n",
    "import seaborn as sns\n",
    "sns.lineplot(sample_BTC=sample_BTC[((sample_BTC.tmsp>from_)&(sample_BTC.tmsp<to)) & (abs(sample_BTC.diff_eur)>0.00001)], x = \"tmsp\", y =\"diff_eur\")\n",
    "sns.lineplot(sample_BTC=sample_BTC[((sample_BTC.tmsp>from_)&(sample_BTC.tmsp<to)) & (abs(sample_BTC.diff_eur)>0.00001)], x = \"tmsp\", y =\"diff_usd\")"
   ]
  },
  {
   "cell_type": "code",
   "execution_count": 194,
   "metadata": {},
   "outputs": [],
   "source": [
    "sample_BTC[\"diff_usd\"] = sample_BTC[\"diff_usd\"].shift(-1)"
   ]
  },
  {
   "cell_type": "code",
   "execution_count": 195,
   "metadata": {},
   "outputs": [],
   "source": [
    "#sample_BTC['year']=sample_BTC['tmsp'].dt.year \n",
    "#sample_BTC['month']=sample_BTC['tmsp'].dt.month \n",
    "#sample_BTC['day']=sample_BTC['tmsp'].dt.day\n",
    "#\n",
    "#sample_BTC['dayofweek_num']=sample_BTC['tmsp'].dt.dayofweek  \n",
    "#sample_BTC['dayofweek_name']=sample_BTC['tmsp'].dt.weekday"
   ]
  },
  {
   "cell_type": "code",
   "execution_count": 196,
   "metadata": {},
   "outputs": [],
   "source": [
    "#sample_BTC['hour']=sample_BTC['tmsp'].dt.hour  \n",
    "#sample_BTC['minute']=sample_BTC['tmsp'].dt.minute"
   ]
  },
  {
   "cell_type": "code",
   "execution_count": 197,
   "metadata": {},
   "outputs": [],
   "source": [
    "sample_BTC['lag_1_eur'] = sample_BTC['diff_eur'].shift(1)\n",
    "sample_BTC['lag_2_eur'] = sample_BTC['diff_eur'].shift(2)\n",
    "sample_BTC['lag_3_eur'] = sample_BTC['diff_eur'].shift(3)\n",
    "sample_BTC['lag_4_eur'] = sample_BTC['diff_eur'].shift(4)\n",
    "sample_BTC['lag_5_eur'] = sample_BTC['diff_eur'].shift(5)\n",
    "sample_BTC['lag_6_eur'] = sample_BTC['diff_eur'].shift(6)\n",
    "sample_BTC['lag_7_eur'] = sample_BTC['diff_eur'].shift(7)"
   ]
  },
  {
   "cell_type": "code",
   "execution_count": 198,
   "metadata": {},
   "outputs": [],
   "source": [
    "sample_BTC['lag_1_usd'] = sample_BTC['diff_usd'].shift(1)\n",
    "sample_BTC['lag_2_usd'] = sample_BTC['diff_usd'].shift(2)\n",
    "sample_BTC['lag_3_usd'] = sample_BTC['diff_usd'].shift(3)\n",
    "sample_BTC['lag_4_usd'] = sample_BTC['diff_usd'].shift(4)\n",
    "sample_BTC['lag_5_usd'] = sample_BTC['diff_usd'].shift(5)\n",
    "sample_BTC['lag_6_usd'] = sample_BTC['diff_usd'].shift(6)\n",
    "sample_BTC['lag_7_usd'] = sample_BTC['diff_usd'].shift(7)"
   ]
  },
  {
   "cell_type": "code",
   "execution_count": 199,
   "metadata": {},
   "outputs": [],
   "source": [
    "sample_BTC['rolling_mean_usd'] = sample_BTC['diff_usd'].rolling(window=7).mean()"
   ]
  },
  {
   "cell_type": "code",
   "execution_count": 200,
   "metadata": {},
   "outputs": [],
   "source": [
    "sample_BTC['rolling_mean_eur'] = sample_BTC['diff_eur'].rolling(window=7).mean()"
   ]
  },
  {
   "cell_type": "code",
   "execution_count": 201,
   "metadata": {},
   "outputs": [
    {
     "data": {
      "text/plain": [
       "(Timestamp('2021-04-19 23:14:24'),\n",
       " Timestamp('2021-04-21 16:02:04'),\n",
       " Timedelta('1 days 16:47:40'))"
      ]
     },
     "execution_count": 201,
     "metadata": {},
     "output_type": "execute_result"
    }
   ],
   "source": [
    "sample_BTC['tmsp'].min(), sample_BTC['tmsp'].max(), (sample_BTC['tmsp'].max() -sample_BTC['tmsp'].min())"
   ]
  },
  {
   "cell_type": "code",
   "execution_count": 202,
   "metadata": {},
   "outputs": [],
   "source": [
    "sample_BTC = sample_BTC.fillna(-100)"
   ]
  },
  {
   "cell_type": "code",
   "execution_count": 203,
   "metadata": {},
   "outputs": [],
   "source": [
    "sample_BTC.drop([\"id\", \"priceUSD\", \"priceEUR\", \"cryptoCurrency\"], axis = 1, inplace =True)"
   ]
  },
  {
   "cell_type": "code",
   "execution_count": 205,
   "metadata": {},
   "outputs": [],
   "source": [
    "#sample_BTC.drop([\"year\", \"month\"], axis = 1, inplace =True)"
   ]
  },
  {
   "cell_type": "code",
   "execution_count": null,
   "metadata": {},
   "outputs": [],
   "source": []
  },
  {
   "cell_type": "code",
   "execution_count": 220,
   "metadata": {},
   "outputs": [],
   "source": [
    "X_train = sample_BTC.sort_values(\"tmsp\").iloc[:37500,:]\n",
    "X_test = sample_BTC.sort_values(\"tmsp\").iloc[37500:,:]"
   ]
  },
  {
   "cell_type": "code",
   "execution_count": 229,
   "metadata": {},
   "outputs": [],
   "source": [
    "from sklearn.preprocessing import MinMaxScaler\n",
    "\n",
    "\n",
    "def data_preproc_lstm (X_train):\n",
    "    scaler = MinMaxScaler()\n",
    "    scaler.fit(X_train.iloc[:,1:])\n",
    "    X_train.iloc[:,1:] = scaler.transform(X_train.iloc[:,1:])\n",
    "\n",
    "    scaler.fit(X_test.iloc[:,1:])\n",
    "    X_test.iloc[:,1:] = scaler.transform(X_test.iloc[:,1:])\n",
    "\n",
    "    y_train = X_train.diff_eur\n",
    "    X_train.drop('diff_eur',axis = 1, inplace = True)\n",
    "\n",
    "    #Convert to numpy arrays\n",
    "    X_train, y_train = np.array(X_train.iloc[:,1:]), np.array(y_train)\n",
    "\n",
    "    #Reshape the data into 3-D array\n",
    "    X_train = np.reshape(X_train, (X_train.shape[0],X_train.shape[1],1))\n",
    "    return X_train, y_train"
   ]
  },
  {
   "cell_type": "code",
   "execution_count": 224,
   "metadata": {},
   "outputs": [],
   "source": [
    "X_train, y_train = data_preproc_lstm(X_train)"
   ]
  },
  {
   "cell_type": "code",
   "execution_count": 225,
   "metadata": {},
   "outputs": [],
   "source": [
    "from sklearn.preprocessing import MinMaxScaler\n",
    "from keras.models import Sequential\n",
    "from keras.layers import Dense, LSTM"
   ]
  },
  {
   "cell_type": "code",
   "execution_count": 226,
   "metadata": {},
   "outputs": [],
   "source": [
    "from keras.layers import Dropout\n",
    "\n",
    "# Initialising the RNN\n",
    "model = Sequential()\n",
    "\n",
    "model.add(LSTM(units = 50, return_sequences = True, input_shape = (X_train.shape[1], 1)))\n",
    "model.add(Dropout(0.2))\n",
    "\n",
    "# Adding a second LSTM layer and Dropout layer\n",
    "model.add(LSTM(units = 50, return_sequences = True))\n",
    "model.add(Dropout(0.2))\n",
    "\n",
    "# Adding a third LSTM layer and Dropout layer\n",
    "model.add(LSTM(units = 50, return_sequences = True))\n",
    "model.add(Dropout(0.2))\n",
    "\n",
    "# Adding a fourth LSTM layer and and Dropout layer\n",
    "model.add(LSTM(units = 50))\n",
    "model.add(Dropout(0.2))\n",
    "\n",
    "# Adding the output layer\n",
    "# For Full connection layer we use dense\n",
    "# As the output is 1D so we use unit=1\n",
    "model.add(Dense(units = 1))"
   ]
  },
  {
   "cell_type": "code",
   "execution_count": 227,
   "metadata": {},
   "outputs": [
    {
     "name": "stdout",
     "output_type": "stream",
     "text": [
      "Epoch 1/30\n",
      "750/750 [==============================] - 34s 35ms/step - loss: 0.0420\n",
      "Epoch 2/30\n",
      "750/750 [==============================] - 27s 36ms/step - loss: 0.0046\n",
      "Epoch 3/30\n",
      "750/750 [==============================] - 28s 37ms/step - loss: 0.0038\n",
      "Epoch 4/30\n",
      "750/750 [==============================] - 30s 39ms/step - loss: 0.0030\n",
      "Epoch 5/30\n",
      "750/750 [==============================] - 29s 39ms/step - loss: 0.0021\n",
      "Epoch 6/30\n",
      "750/750 [==============================] - 29s 39ms/step - loss: 0.0013\n",
      "Epoch 7/30\n",
      "750/750 [==============================] - 30s 40ms/step - loss: 8.1285e-04\n",
      "Epoch 8/30\n",
      "750/750 [==============================] - 28s 37ms/step - loss: 3.5958e-04\n",
      "Epoch 9/30\n",
      "750/750 [==============================] - 31s 41ms/step - loss: 1.4576e-04\n",
      "Epoch 10/30\n",
      "750/750 [==============================] - 28s 37ms/step - loss: 7.9009e-05\n",
      "Epoch 11/30\n",
      "750/750 [==============================] - 29s 39ms/step - loss: 4.2854e-05\n",
      "Epoch 12/30\n",
      "750/750 [==============================] - 30s 40ms/step - loss: 3.6530e-06\n",
      "Epoch 13/30\n",
      "750/750 [==============================] - 27s 36ms/step - loss: 2.1961e-05\n",
      "Epoch 14/30\n",
      "750/750 [==============================] - 26s 35ms/step - loss: 1.1096e-05\n",
      "Epoch 15/30\n",
      "750/750 [==============================] - 28s 37ms/step - loss: 2.6044e-05\n",
      "Epoch 16/30\n",
      "750/750 [==============================] - 27s 37ms/step - loss: 1.1320e-04\n",
      "Epoch 17/30\n",
      "750/750 [==============================] - 31s 42ms/step - loss: 7.0179e-05\n",
      "Epoch 18/30\n",
      "750/750 [==============================] - 29s 39ms/step - loss: 2.2239e-06\n",
      "Epoch 19/30\n",
      "750/750 [==============================] - 28s 37ms/step - loss: 3.3304e-05\n",
      "Epoch 20/30\n",
      "750/750 [==============================] - 30s 40ms/step - loss: 1.9008e-06\n",
      "Epoch 21/30\n",
      "750/750 [==============================] - 29s 39ms/step - loss: 1.7575e-05\n",
      "Epoch 22/30\n",
      "750/750 [==============================] - 27s 36ms/step - loss: 1.0713e-05\n",
      "Epoch 23/30\n",
      "750/750 [==============================] - 29s 39ms/step - loss: 5.7465e-05\n",
      "Epoch 24/30\n",
      "750/750 [==============================] - 28s 37ms/step - loss: 4.4694e-05\n",
      "Epoch 25/30\n",
      "750/750 [==============================] - 28s 38ms/step - loss: 5.2909e-05\n",
      "Epoch 26/30\n",
      "750/750 [==============================] - 29s 39ms/step - loss: 2.4875e-05\n",
      "Epoch 27/30\n",
      "750/750 [==============================] - 29s 39ms/step - loss: 6.2196e-06\n",
      "Epoch 28/30\n",
      "750/750 [==============================] - 28s 38ms/step - loss: 2.2053e-05\n",
      "Epoch 29/30\n",
      "750/750 [==============================] - 29s 39ms/step - loss: 5.0287e-06\n",
      "Epoch 30/30\n",
      "750/750 [==============================] - 27s 36ms/step - loss: 2.7077e-05\n"
     ]
    },
    {
     "data": {
      "text/plain": [
       "<tensorflow.python.keras.callbacks.History at 0x1624023fb20>"
      ]
     },
     "execution_count": 227,
     "metadata": {},
     "output_type": "execute_result"
    }
   ],
   "source": [
    "#compile and fit the model on 30 epochs\n",
    "model.compile(optimizer = 'adam', loss = 'mean_squared_error')\n",
    "model.fit(X_train, y_train, epochs = 30, batch_size = 50)"
   ]
  },
  {
   "cell_type": "code",
   "execution_count": 230,
   "metadata": {},
   "outputs": [],
   "source": [
    "X_test, y_test = data_preproc_lstm(X_test)"
   ]
  },
  {
   "cell_type": "code",
   "execution_count": 256,
   "metadata": {},
   "outputs": [],
   "source": [
    "#check predicted values\n",
    "predictions = model.predict(X_test) "
   ]
  },
  {
   "cell_type": "code",
   "execution_count": 258,
   "metadata": {},
   "outputs": [],
   "source": [
    "predictions_ = predictions\n",
    "i=0\n",
    "while i<17:\n",
    "    predictions = np.append(predictions, predictions_,1)\n",
    "    i+=1"
   ]
  },
  {
   "cell_type": "code",
   "execution_count": 260,
   "metadata": {},
   "outputs": [],
   "source": [
    "\n",
    "#Undo scaling\n",
    "predictions = scaler.inverse_transform(predictions)"
   ]
  },
  {
   "cell_type": "code",
   "execution_count": 263,
   "metadata": {},
   "outputs": [],
   "source": [
    "final_list = []\n",
    "for row in predictions:\n",
    "    final_list.append(row[0])"
   ]
  },
  {
   "cell_type": "code",
   "execution_count": 266,
   "metadata": {},
   "outputs": [
    {
     "data": {
      "text/plain": [
       "0.4350605230886565"
      ]
     },
     "execution_count": 266,
     "metadata": {},
     "output_type": "execute_result"
    }
   ],
   "source": [
    "\n",
    "\n",
    "#Calculate RMSE score\n",
    "rmse=np.sqrt(np.mean(((final_list- y_test)**2)))\n",
    "rmse"
   ]
  },
  {
   "cell_type": "markdown",
   "metadata": {},
   "source": [
    "## Modeling"
   ]
  },
  {
   "cell_type": "code",
   "execution_count": 118,
   "metadata": {},
   "outputs": [],
   "source": [
    "from statsmodels.graphics.tsaplots import plot_acf, plot_pacf"
   ]
  },
  {
   "cell_type": "code",
   "execution_count": 92,
   "metadata": {},
   "outputs": [],
   "source": [
    "#from sklearn import preprocessing\n",
    "#\n",
    "#min_max_scaler = preprocessing.MinMaxScaler()\n",
    "#sample_BTC[\"priceUSD_normalized\"]  = min_max_scaler.fit_transform(sample_BTC[[\"priceUSD\"]].values)"
   ]
  },
  {
   "cell_type": "markdown",
   "metadata": {},
   "source": [
    "## PACF and ACF (autocorrelation function) plots"
   ]
  },
  {
   "cell_type": "markdown",
   "metadata": {},
   "source": [
    "Find out about their formulas, and how do exactly they work"
   ]
  },
  {
   "cell_type": "markdown",
   "metadata": {},
   "source": [
    "\n",
    "https://machinelearningmastery.com/gentle-introduction-autocorrelation-partial-autocorrelation/\n",
    "\n",
    "https://machinelearningmastery.com/develop-arch-and-garch-models-for-time-series-forecasting-in-python/\n",
    "\n",
    "Time series models \n",
    "https://towardssample_BTCscience.com/an-overview-of-time-series-forecasting-models-a2fa7a358fcb\n"
   ]
  },
  {
   "cell_type": "code",
   "execution_count": 119,
   "metadata": {},
   "outputs": [
    {
     "data": {
      "image/png": "[encoded data removed]",
      "text/plain": [
       "<Figure size 432x288 with 1 Axes>"
      ]
     },
     "metadata": {
      "needs_background": "light"
     },
     "output_type": "display_data"
    },
    {
     "data": {
      "image/png": "[encoded data removed]",
      "text/plain": [
       "<Figure size 432x288 with 1 Axes>"
      ]
     },
     "metadata": {
      "needs_background": "light"
     },
     "output_type": "display_data"
    }
   ],
   "source": [
    "plot_acf(sample_BTC.priceUSD)\n",
    "plot_acf(sample_BTC.priceEUR)\n",
    "plt.show()"
   ]
  },
  {
   "cell_type": "code",
   "execution_count": 120,
   "metadata": {},
   "outputs": [
    {
     "data": {
      "image/png": "[encoded data removed]",
      "text/plain": [
       "<Figure size 432x288 with 1 Axes>"
      ]
     },
     "metadata": {
      "needs_background": "light"
     },
     "output_type": "display_data"
    },
    {
     "data": {
      "image/png": "[encoded data removed]",
      "text/plain": [
       "<Figure size 432x288 with 1 Axes>"
      ]
     },
     "metadata": {
      "needs_background": "light"
     },
     "output_type": "display_data"
    }
   ],
   "source": [
    "plot_pacf(sample_BTC.priceUSD)\n",
    "plot_pacf(sample_BTC.priceEUR)\n",
    "plt.show()"
   ]
  },
  {
   "cell_type": "code",
   "execution_count": 154,
   "metadata": {},
   "outputs": [],
   "source": [
    "stocks_eur.set_index(\"tmsp\", inplace = True)"
   ]
  },
  {
   "cell_type": "code",
   "execution_count": 157,
   "metadata": {},
   "outputs": [],
   "source": [
    "from sklearn import preprocessing\n",
    "sample_BTC_normaliser = preprocessing.MinMaxScaler()\n",
    "stocks_eur[\"price\"] = sample_BTC_normaliser.fit_transform(stocks_eur)"
   ]
  }
 ],
 "metadata": {
  "kernelspec": {
   "display_name": "Python 3",
   "language": "python",
   "name": "python3"
  },
  "language_info": {
   "codemirror_mode": {
    "name": "ipython",
    "version": 3
   },
   "file_extension": ".py",
   "mimetype": "text/x-python",
   "name": "python",
   "nbconvert_exporter": "python",
   "pygments_lexer": "ipython3",
   "version": "3.8.6"
  }
 },
 "nbformat": 4,
 "nbformat_minor": 4
}
