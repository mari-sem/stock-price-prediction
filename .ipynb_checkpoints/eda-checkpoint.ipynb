{
 "cells": [
  {
   "cell_type": "code",
   "execution_count": 2,
   "metadata": {},
   "outputs": [],
   "source": [
    "import pandas as pd\n",
    "import numpy as np\n",
    "import datetime\n",
    "\n",
    "import matplotlib.pyplot as plt"
   ]
  },
  {
   "cell_type": "code",
   "execution_count": 3,
   "metadata": {},
   "outputs": [],
   "source": [
    "#stocks_eur = pd.read_json(r\"C:\\Users\\Acer\\Downloads\\Telegram Desktop\\XRP_EUR.json\")"
   ]
  },
  {
   "cell_type": "code",
   "execution_count": 4,
   "metadata": {},
   "outputs": [],
   "source": [
    "#stocks_usd = pd.read_json(r\"C:\\Users\\Acer\\Downloads\\Telegram Desktop\\XRP_USD.json\")"
   ]
  },
  {
   "cell_type": "code",
   "execution_count": 5,
   "metadata": {},
   "outputs": [],
   "source": [
    "#stocks = pd.read_json(r\"C:\\Users\\Acer\\Downloads\\Telegram Desktop\\sample_BTCset_1.json\")"
   ]
  },
  {
   "cell_type": "code",
   "execution_count": 57,
   "metadata": {},
   "outputs": [],
   "source": [
    "stocks = pd.read_json(r\"sample_BTC.json\")"
   ]
  },
  {
   "cell_type": "code",
   "execution_count": 59,
   "metadata": {
    "tags": []
   },
   "outputs": [
    {
     "data": {
      "text/html": [
       "<div>\n",
       "<style scoped>\n",
       "    .dataframe tbody tr th:only-of-type {\n",
       "        vertical-align: middle;\n",
       "    }\n",
       "\n",
       "    .dataframe tbody tr th {\n",
       "        vertical-align: top;\n",
       "    }\n",
       "\n",
       "    .dataframe thead th {\n",
       "        text-align: right;\n",
       "    }\n",
       "</style>\n",
       "<table border=\"1\" class=\"dataframe\">\n",
       "  <thead>\n",
       "    <tr style=\"text-align: right;\">\n",
       "      <th></th>\n",
       "      <th>id</th>\n",
       "      <th>tmsp</th>\n",
       "      <th>priceUSD</th>\n",
       "      <th>priceEUR</th>\n",
       "      <th>cryptoCurrency</th>\n",
       "    </tr>\n",
       "  </thead>\n",
       "  <tbody>\n",
       "    <tr>\n",
       "      <th>0</th>\n",
       "      <td>1</td>\n",
       "      <td>1618866864</td>\n",
       "      <td>56314.7</td>\n",
       "      <td>46807.7</td>\n",
       "      <td>BTC</td>\n",
       "    </tr>\n",
       "    <tr>\n",
       "      <th>1</th>\n",
       "      <td>2</td>\n",
       "      <td>1618866866</td>\n",
       "      <td>56314.7</td>\n",
       "      <td>46807.7</td>\n",
       "      <td>BTC</td>\n",
       "    </tr>\n",
       "    <tr>\n",
       "      <th>2</th>\n",
       "      <td>3</td>\n",
       "      <td>1618866867</td>\n",
       "      <td>56314.7</td>\n",
       "      <td>46807.7</td>\n",
       "      <td>BTC</td>\n",
       "    </tr>\n",
       "    <tr>\n",
       "      <th>3</th>\n",
       "      <td>4</td>\n",
       "      <td>1618866869</td>\n",
       "      <td>56314.7</td>\n",
       "      <td>46807.7</td>\n",
       "      <td>BTC</td>\n",
       "    </tr>\n",
       "    <tr>\n",
       "      <th>4</th>\n",
       "      <td>5</td>\n",
       "      <td>1618866871</td>\n",
       "      <td>56314.7</td>\n",
       "      <td>46807.7</td>\n",
       "      <td>BTC</td>\n",
       "    </tr>\n",
       "  </tbody>\n",
       "</table>\n",
       "</div>"
      ],
      "text/plain": [
       "   id        tmsp  priceUSD  priceEUR cryptoCurrency\n",
       "0   1  1618866864   56314.7   46807.7            BTC\n",
       "1   2  1618866866   56314.7   46807.7            BTC\n",
       "2   3  1618866867   56314.7   46807.7            BTC\n",
       "3   4  1618866869   56314.7   46807.7            BTC\n",
       "4   5  1618866871   56314.7   46807.7            BTC"
      ]
     },
     "execution_count": 59,
     "metadata": {},
     "output_type": "execute_result"
    }
   ],
   "source": [
    "stocks.rename({\"priceCurrencyOne\":\"priceUSD\"}, axis = 1, inplace = True)\n",
    "stocks.rename({\"priceCurrencyTwo\":\"priceEUR\"}, axis = 1, inplace = True)\n",
    "\n",
    "stocks.drop([\"currencyOne\", \"currencyTwo\"], axis = 1, inplace = True)\n",
    "stocks.head()"
   ]
  },
  {
   "cell_type": "markdown",
   "metadata": {},
   "source": [
    "Excluding all null values and taking separate BTC and XRP samples"
   ]
  },
  {
   "cell_type": "code",
   "execution_count": 189,
   "metadata": {},
   "outputs": [],
   "source": [
    "sample_BTC = stocks[(stocks['tmsp']!='null')\n",
    "                &(stocks['priceUSD']!='null')\n",
    "                &(stocks['priceEUR']!='null')\n",
    "               &(stocks['cryptoCurrency']=='BTC')].copy()"
   ]
  },
  {
   "cell_type": "code",
   "execution_count": 62,
   "metadata": {},
   "outputs": [],
   "source": [
    "sample_XRP = stocks[(stocks['tmsp']!='null')\n",
    "                &(stocks['priceUSD']!='null')\n",
    "                &(stocks['priceEUR']!='null')\n",
    "               &(stocks['cryptoCurrency']=='XRP')].copy()"
   ]
  },
  {
   "cell_type": "markdown",
   "metadata": {},
   "source": [
    "sample_BTC preprocessing"
   ]
  },
  {
   "cell_type": "code",
   "execution_count": 190,
   "metadata": {},
   "outputs": [],
   "source": [
    "def preprocess (sample):\n",
    "    sample.tmsp = [datetime.datetime.fromtimestamp(x) for x in sample.tmsp.astype(int)]\n",
    "    sample.priceUSD = sample.priceUSD.astype(float)\n",
    "    sample.priceEUR = sample.priceEUR.astype(float)\n",
    "    return sample"
   ]
  },
  {
   "cell_type": "code",
   "execution_count": 191,
   "metadata": {},
   "outputs": [],
   "source": [
    "sample_BTC = preprocess(sample_BTC)\n",
    "sample_XRP = preprocess(sample_XRP)"
   ]
  },
  {
   "cell_type": "code",
   "execution_count": 11,
   "metadata": {},
   "outputs": [
    {
     "data": {
      "text/plain": [
       "<AxesSubplot:xlabel='tmsp'>"
      ]
     },
     "execution_count": 11,
     "metadata": {},
     "output_type": "execute_result"
    },
    {
     "data": {
      "image/png": "[encoded data removed]",
      "text/plain": [
       "<Figure size 432x288 with 1 Axes>"
      ]
     },
     "metadata": {
      "needs_background": "light"
     },
     "output_type": "display_data"
    }
   ],
   "source": [
    "sample_BTC[(sample_BTC.tmsp>'2021-02-16 17:07:37')&(sample_BTC.tmsp<'2021-02-16 17:30:37')].plot(x='tmsp', y='priceEUR')"
   ]
  },
  {
   "cell_type": "code",
   "execution_count": 12,
   "metadata": {},
   "outputs": [
    {
     "data": {
      "text/plain": [
       "<AxesSubplot:xlabel='tmsp'>"
      ]
     },
     "execution_count": 12,
     "metadata": {},
     "output_type": "execute_result"
    },
    {
     "data": {
      "image/png": "[encoded data removed]",
      "text/plain": [
       "<Figure size 432x288 with 1 Axes>"
      ]
     },
     "metadata": {
      "needs_background": "light"
     },
     "output_type": "display_data"
    }
   ],
   "source": [
    "sample_BTC[(sample_BTC.tmsp>'2021-02-16 17:07:37')&(sample_BTC.tmsp<'2021-02-16 17:30:37')].plot(x='tmsp', y='priceUSD')"
   ]
  },
  {
   "cell_type": "code",
   "execution_count": 13,
   "metadata": {},
   "outputs": [
    {
     "data": {
      "text/plain": [
       "<AxesSubplot:xlabel='tmsp'>"
      ]
     },
     "execution_count": 13,
     "metadata": {},
     "output_type": "execute_result"
    },
    {
     "data": {
      "image/png": "[encoded data removed]",
      "text/plain": [
       "<Figure size 432x288 with 1 Axes>"
      ]
     },
     "metadata": {
      "needs_background": "light"
     },
     "output_type": "display_data"
    }
   ],
   "source": [
    "sample_BTC.plot(x='tmsp', y='priceEUR')"
   ]
  },
  {
   "cell_type": "code",
   "execution_count": 14,
   "metadata": {},
   "outputs": [
    {
     "data": {
      "text/plain": [
       "<AxesSubplot:xlabel='tmsp'>"
      ]
     },
     "execution_count": 14,
     "metadata": {},
     "output_type": "execute_result"
    },
    {
     "data": {
      "image/png": "[encoded data removed]",
      "text/plain": [
       "<Figure size 432x288 with 1 Axes>"
      ]
     },
     "metadata": {
      "needs_background": "light"
     },
     "output_type": "display_data"
    }
   ],
   "source": [
    "sample_BTC.plot(x='tmsp', y='priceUSD')"
   ]
  },
  {
   "cell_type": "code",
   "execution_count": 192,
   "metadata": {},
   "outputs": [],
   "source": [
    "sample_BTC[\"diff_eur\"] = (sample_BTC.priceEUR/sample_BTC.priceEUR.shift(1))-1\n",
    "sample_BTC[\"diff_usd\"] = (sample_BTC.priceUSD/sample_BTC.priceUSD.shift(1))-1"
   ]
  },
  {
   "cell_type": "code",
   "execution_count": 193,
   "metadata": {},
   "outputs": [
    {
     "data": {
      "text/html": [
       "<div>\n",
       "<style scoped>\n",
       "    .dataframe tbody tr th:only-of-type {\n",
       "        vertical-align: middle;\n",
       "    }\n",
       "\n",
       "    .dataframe tbody tr th {\n",
       "        vertical-align: top;\n",
       "    }\n",
       "\n",
       "    .dataframe thead th {\n",
       "        text-align: right;\n",
       "    }\n",
       "</style>\n",
       "<table border=\"1\" class=\"dataframe\">\n",
       "  <thead>\n",
       "    <tr style=\"text-align: right;\">\n",
       "      <th></th>\n",
       "      <th>id</th>\n",
       "      <th>tmsp</th>\n",
       "      <th>priceUSD</th>\n",
       "      <th>priceEUR</th>\n",
       "      <th>cryptoCurrency</th>\n",
       "      <th>diff_eur</th>\n",
       "      <th>diff_usd</th>\n",
       "    </tr>\n",
       "  </thead>\n",
       "  <tbody>\n",
       "    <tr>\n",
       "      <th>0</th>\n",
       "      <td>1</td>\n",
       "      <td>2021-04-19 23:14:24</td>\n",
       "      <td>56314.7</td>\n",
       "      <td>46807.7</td>\n",
       "      <td>BTC</td>\n",
       "      <td>NaN</td>\n",
       "      <td>NaN</td>\n",
       "    </tr>\n",
       "    <tr>\n",
       "      <th>1</th>\n",
       "      <td>2</td>\n",
       "      <td>2021-04-19 23:14:26</td>\n",
       "      <td>56314.7</td>\n",
       "      <td>46807.7</td>\n",
       "      <td>BTC</td>\n",
       "      <td>0.0</td>\n",
       "      <td>0.0</td>\n",
       "    </tr>\n",
       "    <tr>\n",
       "      <th>2</th>\n",
       "      <td>3</td>\n",
       "      <td>2021-04-19 23:14:27</td>\n",
       "      <td>56314.7</td>\n",
       "      <td>46807.7</td>\n",
       "      <td>BTC</td>\n",
       "      <td>0.0</td>\n",
       "      <td>0.0</td>\n",
       "    </tr>\n",
       "    <tr>\n",
       "      <th>3</th>\n",
       "      <td>4</td>\n",
       "      <td>2021-04-19 23:14:29</td>\n",
       "      <td>56314.7</td>\n",
       "      <td>46807.7</td>\n",
       "      <td>BTC</td>\n",
       "      <td>0.0</td>\n",
       "      <td>0.0</td>\n",
       "    </tr>\n",
       "    <tr>\n",
       "      <th>4</th>\n",
       "      <td>5</td>\n",
       "      <td>2021-04-19 23:14:31</td>\n",
       "      <td>56314.7</td>\n",
       "      <td>46807.7</td>\n",
       "      <td>BTC</td>\n",
       "      <td>0.0</td>\n",
       "      <td>0.0</td>\n",
       "    </tr>\n",
       "    <tr>\n",
       "      <th>5</th>\n",
       "      <td>6</td>\n",
       "      <td>2021-04-19 23:14:32</td>\n",
       "      <td>56314.7</td>\n",
       "      <td>46807.7</td>\n",
       "      <td>BTC</td>\n",
       "      <td>0.0</td>\n",
       "      <td>0.0</td>\n",
       "    </tr>\n",
       "  </tbody>\n",
       "</table>\n",
       "</div>"
      ],
      "text/plain": [
       "   id                tmsp  priceUSD  priceEUR cryptoCurrency  diff_eur  \\\n",
       "0   1 2021-04-19 23:14:24   56314.7   46807.7            BTC       NaN   \n",
       "1   2 2021-04-19 23:14:26   56314.7   46807.7            BTC       0.0   \n",
       "2   3 2021-04-19 23:14:27   56314.7   46807.7            BTC       0.0   \n",
       "3   4 2021-04-19 23:14:29   56314.7   46807.7            BTC       0.0   \n",
       "4   5 2021-04-19 23:14:31   56314.7   46807.7            BTC       0.0   \n",
       "5   6 2021-04-19 23:14:32   56314.7   46807.7            BTC       0.0   \n",
       "\n",
       "   diff_usd  \n",
       "0       NaN  \n",
       "1       0.0  \n",
       "2       0.0  \n",
       "3       0.0  \n",
       "4       0.0  \n",
       "5       0.0  "
      ]
     },
     "execution_count": 193,
     "metadata": {},
     "output_type": "execute_result"
    }
   ],
   "source": [
    "sample_BTC.head(6)"
   ]
  },
  {
   "cell_type": "code",
   "execution_count": 101,
   "metadata": {},
   "outputs": [
    {
     "data": {
      "text/plain": [
       "<AxesSubplot:>"
      ]
     },
     "execution_count": 101,
     "metadata": {},
     "output_type": "execute_result"
    },
    {
     "data": {
      "image/png": "[encoded data removed]",
      "text/plain": [
       "<Figure size 432x288 with 1 Axes>"
      ]
     },
     "metadata": {
      "needs_background": "light"
     },
     "output_type": "display_data"
    }
   ],
   "source": [
    "from_ = '2021-04-16 0:10:37'\n",
    "to = '2021-04-16 23:13:37'\n",
    "\n",
    "import seaborn as sns\n",
    "sns.lineplot(sample_BTC=sample_BTC[((sample_BTC.tmsp>from_)&(sample_BTC.tmsp<to)) & (abs(sample_BTC.diff_eur)>0.00001)], x = \"tmsp\", y =\"diff_eur\")\n",
    "sns.lineplot(sample_BTC=sample_BTC[((sample_BTC.tmsp>from_)&(sample_BTC.tmsp<to)) & (abs(sample_BTC.diff_eur)>0.00001)], x = \"tmsp\", y =\"diff_usd\")"
   ]
  },
  {
   "cell_type": "code",
   "execution_count": 194,
   "metadata": {},
   "outputs": [],
   "source": [
    "sample_BTC[\"diff_usd\"] = sample_BTC[\"diff_usd\"].shift(-1)"
   ]
  },
  {
   "cell_type": "code",
   "execution_count": 195,
   "metadata": {},
   "outputs": [],
   "source": [
    "#sample_BTC['year']=sample_BTC['tmsp'].dt.year \n",
    "#sample_BTC['month']=sample_BTC['tmsp'].dt.month \n",
    "#sample_BTC['day']=sample_BTC['tmsp'].dt.day\n",
    "#\n",
    "#sample_BTC['dayofweek_num']=sample_BTC['tmsp'].dt.dayofweek  \n",
    "#sample_BTC['dayofweek_name']=sample_BTC['tmsp'].dt.weekday"
   ]
  },
  {
   "cell_type": "code",
   "execution_count": 196,
   "metadata": {},
   "outputs": [],
   "source": [
    "#sample_BTC['hour']=sample_BTC['tmsp'].dt.hour  \n",
    "#sample_BTC['minute']=sample_BTC['tmsp'].dt.minute"
   ]
  },
  {
   "cell_type": "code",
   "execution_count": 197,
   "metadata": {},
   "outputs": [],
   "source": [
    "sample_BTC['lag_1_eur'] = sample_BTC['diff_eur'].shift(1)\n",
    "sample_BTC['lag_2_eur'] = sample_BTC['diff_eur'].shift(2)\n",
    "sample_BTC['lag_3_eur'] = sample_BTC['diff_eur'].shift(3)\n",
    "sample_BTC['lag_4_eur'] = sample_BTC['diff_eur'].shift(4)\n",
    "sample_BTC['lag_5_eur'] = sample_BTC['diff_eur'].shift(5)\n",
    "sample_BTC['lag_6_eur'] = sample_BTC['diff_eur'].shift(6)\n",
    "sample_BTC['lag_7_eur'] = sample_BTC['diff_eur'].shift(7)"
   ]
  },
  {
   "cell_type": "code",
   "execution_count": 198,
   "metadata": {},
   "outputs": [],
   "source": [
    "sample_BTC['lag_1_usd'] = sample_BTC['diff_usd'].shift(1)\n",
    "sample_BTC['lag_2_usd'] = sample_BTC['diff_usd'].shift(2)\n",
    "sample_BTC['lag_3_usd'] = sample_BTC['diff_usd'].shift(3)\n",
    "sample_BTC['lag_4_usd'] = sample_BTC['diff_usd'].shift(4)\n",
    "sample_BTC['lag_5_usd'] = sample_BTC['diff_usd'].shift(5)\n",
    "sample_BTC['lag_6_usd'] = sample_BTC['diff_usd'].shift(6)\n",
    "sample_BTC['lag_7_usd'] = sample_BTC['diff_usd'].shift(7)"
   ]
  },
  {
   "cell_type": "code",
   "execution_count": 199,
   "metadata": {},
   "outputs": [],
   "source": [
    "sample_BTC['rolling_mean_usd'] = sample_BTC['diff_usd'].rolling(window=7).mean()"
   ]
  },
  {
   "cell_type": "code",
   "execution_count": 200,
   "metadata": {},
   "outputs": [],
   "source": [
    "sample_BTC['rolling_mean_eur'] = sample_BTC['diff_eur'].rolling(window=7).mean()"
   ]
  },
  {
   "cell_type": "code",
   "execution_count": 201,
   "metadata": {},
   "outputs": [
    {
     "data": {
      "text/plain": [
       "(Timestamp('2021-04-19 23:14:24'),\n",
       " Timestamp('2021-04-21 16:02:04'),\n",
       " Timedelta('1 days 16:47:40'))"
      ]
     },
     "execution_count": 201,
     "metadata": {},
     "output_type": "execute_result"
    }
   ],
   "source": [
    "sample_BTC['tmsp'].min(), sample_BTC['tmsp'].max(), (sample_BTC['tmsp'].max() -sample_BTC['tmsp'].min())"
   ]
  },
  {
   "cell_type": "code",
   "execution_count": 202,
   "metadata": {},
   "outputs": [],
   "source": [
    "sample_BTC = sample_BTC.fillna(-100)"
   ]
  },
  {
   "cell_type": "code",
   "execution_count": 203,
   "metadata": {},
   "outputs": [],
   "source": [
    "sample_BTC.drop([\"id\", \"priceUSD\", \"priceEUR\", \"cryptoCurrency\"], axis = 1, inplace =True)"
   ]
  },
  {
   "cell_type": "code",
   "execution_count": 205,
   "metadata": {},
   "outputs": [],
   "source": [
    "#sample_BTC.drop([\"year\", \"month\"], axis = 1, inplace =True)"
   ]
  },
  {
   "cell_type": "code",
   "execution_count": null,
   "metadata": {},
   "outputs": [],
   "source": []
  },
  {
   "cell_type": "code",
   "execution_count": 220,
   "metadata": {},
   "outputs": [],
   "source": [
    "X_train = sample_BTC.sort_values(\"tmsp\").iloc[:37500,:]\n",
    "X_test = sample_BTC.sort_values(\"tmsp\").iloc[37500:,:]"
   ]
  },
  {
   "cell_type": "code",
   "execution_count": 229,
   "metadata": {},
   "outputs": [],
   "source": [
    "from sklearn.preprocessing import MinMaxScaler\n",
    "\n",
    "\n",
    "def data_preproc_lstm (X_train):\n",
    "    scaler = MinMaxScaler()\n",
    "    scaler.fit(X_train.iloc[:,1:])\n",
    "    X_train.iloc[:,1:] = scaler.transform(X_train.iloc[:,1:])\n",
    "\n",
    "    scaler.fit(X_test.iloc[:,1:])\n",
    "    X_test.iloc[:,1:] = scaler.transform(X_test.iloc[:,1:])\n",
    "\n",
    "    y_train = X_train.diff_eur\n",
    "    X_train.drop('diff_eur',axis = 1, inplace = True)\n",
    "\n",
    "    #Convert to numpy arrays\n",
    "    X_train, y_train = np.array(X_train.iloc[:,1:]), np.array(y_train)\n",
    "\n",
    "    #Reshape the data into 3-D array\n",
    "    X_train = np.reshape(X_train, (X_train.shape[0],X_train.shape[1],1))\n",
    "    return X_train, y_train"
   ]
  },
  {
   "cell_type": "code",
   "execution_count": 224,
   "metadata": {},
   "outputs": [],
   "source": [
    "X_train, y_train = data_preproc_lstm(X_train)"
   ]
  },
  {
   "cell_type": "code",
   "execution_count": 225,
   "metadata": {},
   "outputs": [],
   "source": [
    "from sklearn.preprocessing import MinMaxScaler\n",
    "from keras.models import Sequential\n",
    "from keras.layers import Dense, LSTM"
   ]
  },
  {
   "cell_type": "code",
   "execution_count": 226,
   "metadata": {},
   "outputs": [],
   "source": [
    "from keras.layers import Dropout\n",
    "\n",
    "# Initialising the RNN\n",
    "model = Sequential()\n",
    "\n",
    "model.add(LSTM(units = 50, return_sequences = True, input_shape = (X_train.shape[1], 1)))\n",
    "model.add(Dropout(0.2))\n",
    "\n",
    "# Adding a second LSTM layer and Dropout layer\n",
    "model.add(LSTM(units = 50, return_sequences = True))\n",
    "model.add(Dropout(0.2))\n",
    "\n",
    "# Adding a third LSTM layer and Dropout layer\n",
    "model.add(LSTM(units = 50, return_sequences = True))\n",
    "model.add(Dropout(0.2))\n",
    "\n",
    "# Adding a fourth LSTM layer and and Dropout layer\n",
    "model.add(LSTM(units = 50))\n",
    "model.add(Dropout(0.2))\n",
    "\n",
    "# Adding the output layer\n",
    "# For Full connection layer we use dense\n",
    "# As the output is 1D so we use unit=1\n",
    "model.add(Dense(units = 1))"
   ]
  },
  {
   "cell_type": "code",
   "execution_count": 227,
   "metadata": {},
   "outputs": [
    {
     "name": "stdout",
     "output_type": "stream",
     "text": [
      "Epoch 1/30\n",
      "750/750 [==============================] - 34s 35ms/step - loss: 0.0420\n",
      "Epoch 2/30\n",
      "750/750 [==============================] - 27s 36ms/step - loss: 0.0046\n",
      "Epoch 3/30\n",
      "750/750 [==============================] - 28s 37ms/step - loss: 0.0038\n",
      "Epoch 4/30\n",
      "750/750 [==============================] - 30s 39ms/step - loss: 0.0030\n",
      "Epoch 5/30\n",
      "750/750 [==============================] - 29s 39ms/step - loss: 0.0021\n",
      "Epoch 6/30\n",
      "750/750 [==============================] - 29s 39ms/step - loss: 0.0013\n",
      "Epoch 7/30\n",
      "750/750 [==============================] - 30s 40ms/step - loss: 8.1285e-04\n",
      "Epoch 8/30\n",
      "750/750 [==============================] - 28s 37ms/step - loss: 3.5958e-04\n",
      "Epoch 9/30\n",
      "750/750 [==============================] - 31s 41ms/step - loss: 1.4576e-04\n",
      "Epoch 10/30\n",
      "750/750 [==============================] - 28s 37ms/step - loss: 7.9009e-05\n",
      "Epoch 11/30\n",
      "750/750 [==============================] - 29s 39ms/step - loss: 4.2854e-05\n",
      "Epoch 12/30\n",
      "750/750 [==============================] - 30s 40ms/step - loss: 3.6530e-06\n",
      "Epoch 13/30\n",
      "750/750 [==============================] - 27s 36ms/step - loss: 2.1961e-05\n",
      "Epoch 14/30\n",
      "750/750 [==============================] - 26s 35ms/step - loss: 1.1096e-05\n",
      "Epoch 15/30\n",
      "750/750 [==============================] - 28s 37ms/step - loss: 2.6044e-05\n",
      "Epoch 16/30\n",
      "750/750 [==============================] - 27s 37ms/step - loss: 1.1320e-04\n",
      "Epoch 17/30\n",
      "750/750 [==============================] - 31s 42ms/step - loss: 7.0179e-05\n",
      "Epoch 18/30\n",
      "750/750 [==============================] - 29s 39ms/step - loss: 2.2239e-06\n",
      "Epoch 19/30\n",
      "750/750 [==============================] - 28s 37ms/step - loss: 3.3304e-05\n",
      "Epoch 20/30\n",
      "750/750 [==============================] - 30s 40ms/step - loss: 1.9008e-06\n",
      "Epoch 21/30\n",
      "750/750 [==============================] - 29s 39ms/step - loss: 1.7575e-05\n",
      "Epoch 22/30\n",
      "750/750 [==============================] - 27s 36ms/step - loss: 1.0713e-05\n",
      "Epoch 23/30\n",
      "750/750 [==============================] - 29s 39ms/step - loss: 5.7465e-05\n",
      "Epoch 24/30\n",
      "750/750 [==============================] - 28s 37ms/step - loss: 4.4694e-05\n",
      "Epoch 25/30\n",
      "750/750 [==============================] - 28s 38ms/step - loss: 5.2909e-05\n",
      "Epoch 26/30\n",
      "750/750 [==============================] - 29s 39ms/step - loss: 2.4875e-05\n",
      "Epoch 27/30\n",
      "750/750 [==============================] - 29s 39ms/step - loss: 6.2196e-06\n",
      "Epoch 28/30\n",
      "750/750 [==============================] - 28s 38ms/step - loss: 2.2053e-05\n",
      "Epoch 29/30\n",
      "750/750 [==============================] - 29s 39ms/step - loss: 5.0287e-06\n",
      "Epoch 30/30\n",
      "750/750 [==============================] - 27s 36ms/step - loss: 2.7077e-05\n"
     ]
    },
    {
     "data": {
      "text/plain": [
       "<tensorflow.python.keras.callbacks.History at 0x1624023fb20>"
      ]
     },
     "execution_count": 227,
     "metadata": {},
     "output_type": "execute_result"
    }
   ],
   "source": [
    "#compile and fit the model on 30 epochs\n",
    "model.compile(optimizer = 'adam', loss = 'mean_squared_error')\n",
    "model.fit(X_train, y_train, epochs = 30, batch_size = 50)"
   ]
  },
  {
   "cell_type": "code",
   "execution_count": 230,
   "metadata": {},
   "outputs": [],
   "source": [
    "X_test, y_test = data_preproc_lstm(X_test)"
   ]
  },
  {
   "cell_type": "code",
   "execution_count": 256,
   "metadata": {},
   "outputs": [],
   "source": [
    "#check predicted values\n",
    "predictions = model.predict(X_test) "
   ]
  },
  {
   "cell_type": "code",
   "execution_count": 258,
   "metadata": {},
   "outputs": [],
   "source": [
    "predictions_ = predictions\n",
    "i=0\n",
    "while i<17:\n",
    "    predictions = np.append(predictions, predictions_,1)\n",
    "    i+=1"
   ]
  },
  {
   "cell_type": "code",
   "execution_count": 260,
   "metadata": {},
   "outputs": [],
   "source": [
    "\n",
    "#Undo scaling\n",
    "predictions = scaler.inverse_transform(predictions)"
   ]
  },
  {
   "cell_type": "code",
   "execution_count": 263,
   "metadata": {},
   "outputs": [],
   "source": [
    "final_list = []\n",
    "for row in predictions:\n",
    "    final_list.append(row[0])"
   ]
  },
  {
   "cell_type": "code",
   "execution_count": 266,
   "metadata": {},
   "outputs": [
    {
     "data": {
      "text/plain": [
       "0.4350605230886565"
      ]
     },
     "execution_count": 266,
     "metadata": {},
     "output_type": "execute_result"
    }
   ],
   "source": [
    "\n",
    "\n",
    "#Calculate RMSE score\n",
    "rmse=np.sqrt(np.mean(((final_list- y_test)**2)))\n",
    "rmse"
   ]
  },
  {
   "cell_type": "markdown",
   "metadata": {},
   "source": [
    "## Modeling"
   ]
  },
  {
   "cell_type": "code",
   "execution_count": 118,
   "metadata": {},
   "outputs": [],
   "source": [
    "from statsmodels.graphics.tsaplots import plot_acf, plot_pacf"
   ]
  },
  {
   "cell_type": "code",
   "execution_count": 92,
   "metadata": {},
   "outputs": [],
   "source": [
    "#from sklearn import preprocessing\n",
    "#\n",
    "#min_max_scaler = preprocessing.MinMaxScaler()\n",
    "#sample_BTC[\"priceUSD_normalized\"]  = min_max_scaler.fit_transform(sample_BTC[[\"priceUSD\"]].values)"
   ]
  },
  {
   "cell_type": "markdown",
   "metadata": {},
   "source": [
    "## PACF and ACF (autocorrelation function) plots"
   ]
  },
  {
   "cell_type": "markdown",
   "metadata": {},
   "source": [
    "Find out about their formulas, and how do exactly they work"
   ]
  },
  {
   "cell_type": "markdown",
   "metadata": {},
   "source": [
    "\n",
    "https://machinelearningmastery.com/gentle-introduction-autocorrelation-partial-autocorrelation/\n",
    "\n",
    "https://machinelearningmastery.com/develop-arch-and-garch-models-for-time-series-forecasting-in-python/\n",
    "\n",
    "Time series models \n",
    "https://towardssample_BTCscience.com/an-overview-of-time-series-forecasting-models-a2fa7a358fcb\n"
   ]
  },
  {
   "cell_type": "code",
   "execution_count": 119,
   "metadata": {},
   "outputs": [
    {
     "data": {
      "image/png": "[encoded data removed]",
      "text/plain": [
       "<Figure size 432x288 with 1 Axes>"
      ]
     },
     "metadata": {
      "needs_background": "light"
     },
     "output_type": "display_data"
    },
    {
     "data": {
      "image/png": "[encoded data removed]",
      "text/plain": [
       "<Figure size 432x288 with 1 Axes>"
      ]
     },
     "metadata": {
      "needs_background": "light"
     },
     "output_type": "display_data"
    }
   ],
   "source": [
    "plot_acf(sample_BTC.priceUSD)\n",
    "plot_acf(sample_BTC.priceEUR)\n",
    "plt.show()"
   ]
  },
  {
   "cell_type": "code",
   "execution_count": 120,
   "metadata": {},
   "outputs": [
    {
     "data": {
      "image/png": "[encoded data removed]",
      "text/plain": [
       "<Figure size 432x288 with 1 Axes>"
      ]
     },
     "metadata": {
      "needs_background": "light"
     },
     "output_type": "display_data"
    },
    {
     "data": {
      "image/png": "[encoded data removed]",
      "text/plain": [
       "<Figure size 432x288 with 1 Axes>"
      ]
     },
     "metadata": {
      "needs_background": "light"
     },
     "output_type": "display_data"
    }
   ],
   "source": [
    "plot_pacf(sample_BTC.priceUSD)\n",
    "plot_pacf(sample_BTC.priceEUR)\n",
    "plt.show()"
   ]
  },
  {
   "cell_type": "code",
   "execution_count": 154,
   "metadata": {},
   "outputs": [],
   "source": [
    "stocks_eur.set_index(\"tmsp\", inplace = True)"
   ]
  },
  {
   "cell_type": "code",
   "execution_count": 157,
   "metadata": {},
   "outputs": [],
   "source": [
    "from sklearn import preprocessing\n",
    "sample_BTC_normaliser = preprocessing.MinMaxScaler()\n",
    "stocks_eur[\"price\"] = sample_BTC_normaliser.fit_transform(stocks_eur)"
   ]
  }
 ],
 "metadata": {
  "kernelspec": {
   "display_name": "Python 3",
   "language": "python",
   "name": "python3"
  },
  "language_info": {
   "codemirror_mode": {
    "name": "ipython",
    "version": 3
   },
   "file_extension": ".py",
   "mimetype": "text/x-python",
   "name": "python",
   "nbconvert_exporter": "python",
   "pygments_lexer": "ipython3",
   "version": "3.8.6"
  }
 },
 "nbformat": 4,
 "nbformat_minor": 4
}
