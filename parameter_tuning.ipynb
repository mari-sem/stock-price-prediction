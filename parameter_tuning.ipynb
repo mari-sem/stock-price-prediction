{
 "cells": [
  {
   "cell_type": "code",
   "execution_count": 13,
   "metadata": {},
   "outputs": [],
   "source": [
    "import pandas as pd\n",
    "import numpy as np\n",
    "import datetime\n",
    "import tqdm\n",
    "\n",
    "import matplotlib.pyplot as plt"
   ]
  },
  {
   "cell_type": "markdown",
   "metadata": {},
   "source": [
    "## Data Preprocessing"
   ]
  },
  {
   "cell_type": "code",
   "execution_count": 8,
   "metadata": {},
   "outputs": [],
   "source": [
    "stocks = pd.read_json(r\"data.json\")"
   ]
  },
  {
   "cell_type": "code",
   "execution_count": 9,
   "metadata": {},
   "outputs": [],
   "source": [
    "def preprocess_dataset (stocks):\n",
    "    stocks.rename({\"priceCurrencyOne\":\"priceUSD\"}, axis = 1, inplace = True)\n",
    "    stocks.rename({\"priceCurrencyTwo\":\"priceEUR\"}, axis = 1, inplace = True)\n",
    "\n",
    "    stocks.drop([\"currencyOne\", \"currencyTwo\"], axis = 1, inplace = True)\n",
    "    return stocks\n",
    "\n",
    "def extract_currency (stocks, currency):\n",
    "    return stocks[(stocks['tmsp']!='null')\n",
    "                &(stocks['priceUSD']!='null')\n",
    "                &(stocks['priceEUR']!='null')\n",
    "               &(stocks['cryptoCurrency']==currency)]\n",
    "\n",
    "def preprocess_currency (sample):\n",
    "    sample.tmsp = [datetime.datetime.fromtimestamp(x) for x in sample.tmsp.astype(int)]\n",
    "    sample.priceUSD = sample.priceUSD.astype(float)\n",
    "    sample.priceEUR = sample.priceEUR.astype(float)\n",
    "    return sample"
   ]
  },
  {
   "cell_type": "code",
   "execution_count": 10,
   "metadata": {},
   "outputs": [],
   "source": [
    "stocks = preprocess_dataset(stocks)\n",
    "sample_BTC = extract_currency(stocks, \"BTC\")\n",
    "sample_BTC = preprocess_currency(sample_BTC)"
   ]
  },
  {
   "cell_type": "markdown",
   "metadata": {},
   "source": [
    "## Features"
   ]
  },
  {
   "cell_type": "code",
   "execution_count": 11,
   "metadata": {},
   "outputs": [],
   "source": [
    "sample_BTC[\"diff_eur\"] = (sample_BTC.priceEUR/sample_BTC.priceEUR.shift(1))-1\n",
    "sample_BTC[\"diff_usd\"] = (sample_BTC.priceUSD/sample_BTC.priceUSD.shift(1))-1"
   ]
  },
  {
   "cell_type": "markdown",
   "metadata": {},
   "source": [
    "## Parameter tuning"
   ]
  },
  {
   "cell_type": "code",
   "execution_count": 18,
   "metadata": {},
   "outputs": [],
   "source": [
    "def list_pop (my_list):\n",
    "    my_list_new = my_list.copy()\n",
    "    return list(filter(lambda a: a != \"wait\", my_list_new))[-1]\n",
    "\n",
    "def trading_func (timespan, sensitivity, elements_to_process, data):\n",
    "    final_list = []\n",
    "    \n",
    "    for i in tqdm.tqdm(list(range(elements_to_process))): #53549\n",
    "        sample_BTC_new = data[(data.tmsp>=(data.tmsp[i]- pd.to_timedelta(f\"00:00:{timespan}\"))) \n",
    "                              & (data.tmsp<=data.tmsp[i])].copy()\n",
    "        value = ((sample_BTC_new[sample_BTC_new.tmsp == sample_BTC_new.tmsp.max()].priceUSD.values[0])/sample_BTC_new[sample_BTC_new.tmsp== sample_BTC_new.tmsp.min()].priceUSD.values[0])-1 \n",
    "\n",
    "        if ((abs(value) > sensitivity)) and value>0:\n",
    "            try:\n",
    "                if (list_pop(final_list) != 'buy') == True:\n",
    "                    final_list.append(\"buy\") \n",
    "                else:\n",
    "                    final_list.append(\"wait\") \n",
    "            except:\n",
    "                final_list.append(\"buy\")\n",
    "\n",
    "        elif ((abs(value) > sensitivity)) and value<0: \n",
    "            try:\n",
    "                if (list_pop(final_list) != 'sell') == True:\n",
    "                    final_list.append(\"sell\") \n",
    "                else:\n",
    "                    final_list.append(\"wait\") \n",
    "            except:\n",
    "                final_list.append(\"sell\")\n",
    "\n",
    "        else: \n",
    "            final_list.append(\"wait\")\n",
    "    \n",
    "    return final_list"
   ]
  },
  {
   "cell_type": "code",
   "execution_count": 66,
   "metadata": {},
   "outputs": [],
   "source": [
    "def list_pop (my_list):\n",
    "    my_list_new = my_list.copy()\n",
    "    return list(filter(lambda a: a != \"wait\", my_list_new))[-1]\n",
    "\n",
    "def trading_func (timespan, sensitivity, elements_to_process, data):\n",
    "    final_list = [[-1, 'placeholder']]\n",
    "    \n",
    "    for i in tqdm.tqdm(list(range(elements_to_process))): #53549\n",
    "        sample_BTC_new = data[(data.tmsp>=(data.tmsp[i]- pd.to_timedelta(f\"00:00:{timespan}\"))) \n",
    "                              & (data.tmsp<=data.tmsp[i])].copy()\n",
    "        value = ((sample_BTC_new[sample_BTC_new.tmsp == sample_BTC_new.tmsp.max()].priceUSD.values[0])/sample_BTC_new[sample_BTC_new.tmsp== sample_BTC_new.tmsp.min()].priceUSD.values[0])-1 \n",
    "\n",
    "        if ((abs(value) > sensitivity)) and value>0:\n",
    "            if final_list[-1][1] != 'buy':\n",
    "                final_list.append([i,\"buy\"]) \n",
    "\n",
    "        elif ((abs(value) > sensitivity)) and value<0: \n",
    "            if final_list[-1][1] != 'sell':\n",
    "                final_list.append([i, \"sell\"]) \n",
    "    final_list.remove([-1, 'placeholder'])\n",
    "    return final_list"
   ]
  },
  {
   "cell_type": "code",
   "execution_count": 67,
   "metadata": {},
   "outputs": [
    {
     "name": "stderr",
     "output_type": "stream",
     "text": [
      "100%|█████████████████████████████████████████████████████████████████████████████| 1000/1000 [00:02<00:00, 342.53it/s]\n"
     ]
    }
   ],
   "source": [
    "timespan = 16\n",
    "sensitivity = 0\n",
    "\n",
    "result = trading_func(timespan=16, sensitivity=0, elements_to_process=1000, data=sample_BTC)"
   ]
  },
  {
   "cell_type": "code",
   "execution_count": 75,
   "metadata": {},
   "outputs": [
    {
     "data": {
      "text/html": [
       "<div>\n",
       "<style scoped>\n",
       "    .dataframe tbody tr th:only-of-type {\n",
       "        vertical-align: middle;\n",
       "    }\n",
       "\n",
       "    .dataframe tbody tr th {\n",
       "        vertical-align: top;\n",
       "    }\n",
       "\n",
       "    .dataframe thead th {\n",
       "        text-align: right;\n",
       "    }\n",
       "</style>\n",
       "<table border=\"1\" class=\"dataframe\">\n",
       "  <thead>\n",
       "    <tr style=\"text-align: right;\">\n",
       "      <th></th>\n",
       "      <th>id</th>\n",
       "      <th>tmsp</th>\n",
       "      <th>priceUSD</th>\n",
       "      <th>priceEUR</th>\n",
       "      <th>cryptoCurrency</th>\n",
       "      <th>diff_eur</th>\n",
       "      <th>diff_usd</th>\n",
       "      <th>decision</th>\n",
       "      <th>profit</th>\n",
       "      <th>decision_</th>\n",
       "    </tr>\n",
       "  </thead>\n",
       "  <tbody>\n",
       "    <tr>\n",
       "      <th>0</th>\n",
       "      <td>1</td>\n",
       "      <td>2021-04-19 23:14:24</td>\n",
       "      <td>56314.7</td>\n",
       "      <td>46807.7</td>\n",
       "      <td>BTC</td>\n",
       "      <td>wait</td>\n",
       "      <td>wait</td>\n",
       "      <td>buy</td>\n",
       "      <td>0.000000</td>\n",
       "      <td>wait</td>\n",
       "    </tr>\n",
       "    <tr>\n",
       "      <th>1</th>\n",
       "      <td>2</td>\n",
       "      <td>2021-04-19 23:14:26</td>\n",
       "      <td>56314.7</td>\n",
       "      <td>46807.7</td>\n",
       "      <td>BTC</td>\n",
       "      <td>0</td>\n",
       "      <td>0</td>\n",
       "      <td>wait</td>\n",
       "      <td>0.000000</td>\n",
       "      <td>wait</td>\n",
       "    </tr>\n",
       "    <tr>\n",
       "      <th>2</th>\n",
       "      <td>3</td>\n",
       "      <td>2021-04-19 23:14:27</td>\n",
       "      <td>56314.7</td>\n",
       "      <td>46807.7</td>\n",
       "      <td>BTC</td>\n",
       "      <td>0</td>\n",
       "      <td>0</td>\n",
       "      <td>wait</td>\n",
       "      <td>0.000000</td>\n",
       "      <td>wait</td>\n",
       "    </tr>\n",
       "    <tr>\n",
       "      <th>3</th>\n",
       "      <td>4</td>\n",
       "      <td>2021-04-19 23:14:29</td>\n",
       "      <td>56314.7</td>\n",
       "      <td>46807.7</td>\n",
       "      <td>BTC</td>\n",
       "      <td>0</td>\n",
       "      <td>0</td>\n",
       "      <td>wait</td>\n",
       "      <td>0.000000</td>\n",
       "      <td>wait</td>\n",
       "    </tr>\n",
       "    <tr>\n",
       "      <th>4</th>\n",
       "      <td>5</td>\n",
       "      <td>2021-04-19 23:14:31</td>\n",
       "      <td>56314.7</td>\n",
       "      <td>46807.7</td>\n",
       "      <td>BTC</td>\n",
       "      <td>0</td>\n",
       "      <td>0</td>\n",
       "      <td>wait</td>\n",
       "      <td>0.000000</td>\n",
       "      <td>wait</td>\n",
       "    </tr>\n",
       "    <tr>\n",
       "      <th>...</th>\n",
       "      <td>...</td>\n",
       "      <td>...</td>\n",
       "      <td>...</td>\n",
       "      <td>...</td>\n",
       "      <td>...</td>\n",
       "      <td>...</td>\n",
       "      <td>...</td>\n",
       "      <td>...</td>\n",
       "      <td>...</td>\n",
       "      <td>...</td>\n",
       "    </tr>\n",
       "    <tr>\n",
       "      <th>53544</th>\n",
       "      <td>53545</td>\n",
       "      <td>2021-04-21 16:01:56</td>\n",
       "      <td>55731.7</td>\n",
       "      <td>46404.3</td>\n",
       "      <td>BTC</td>\n",
       "      <td>0</td>\n",
       "      <td>-5.74147e-05</td>\n",
       "      <td>sell</td>\n",
       "      <td>-0.008618</td>\n",
       "      <td>wait</td>\n",
       "    </tr>\n",
       "    <tr>\n",
       "      <th>53545</th>\n",
       "      <td>53546</td>\n",
       "      <td>2021-04-21 16:01:57</td>\n",
       "      <td>55731.7</td>\n",
       "      <td>46404.3</td>\n",
       "      <td>BTC</td>\n",
       "      <td>0</td>\n",
       "      <td>0</td>\n",
       "      <td>wait</td>\n",
       "      <td>0.000000</td>\n",
       "      <td>wait</td>\n",
       "    </tr>\n",
       "    <tr>\n",
       "      <th>53546</th>\n",
       "      <td>53547</td>\n",
       "      <td>2021-04-21 16:01:59</td>\n",
       "      <td>55731.7</td>\n",
       "      <td>46404.3</td>\n",
       "      <td>BTC</td>\n",
       "      <td>0</td>\n",
       "      <td>0</td>\n",
       "      <td>wait</td>\n",
       "      <td>0.000000</td>\n",
       "      <td>wait</td>\n",
       "    </tr>\n",
       "    <tr>\n",
       "      <th>53547</th>\n",
       "      <td>53548</td>\n",
       "      <td>2021-04-21 16:02:01</td>\n",
       "      <td>55731.7</td>\n",
       "      <td>46404.3</td>\n",
       "      <td>BTC</td>\n",
       "      <td>0</td>\n",
       "      <td>0</td>\n",
       "      <td>wait</td>\n",
       "      <td>0.000000</td>\n",
       "      <td>wait</td>\n",
       "    </tr>\n",
       "    <tr>\n",
       "      <th>53548</th>\n",
       "      <td>53549</td>\n",
       "      <td>2021-04-21 16:02:04</td>\n",
       "      <td>55731.7</td>\n",
       "      <td>46404.3</td>\n",
       "      <td>BTC</td>\n",
       "      <td>0</td>\n",
       "      <td>0</td>\n",
       "      <td>wait</td>\n",
       "      <td>0.000000</td>\n",
       "      <td>wait</td>\n",
       "    </tr>\n",
       "  </tbody>\n",
       "</table>\n",
       "<p>53549 rows × 10 columns</p>\n",
       "</div>"
      ],
      "text/plain": [
       "          id                tmsp  priceUSD  priceEUR cryptoCurrency diff_eur  \\\n",
       "0          1 2021-04-19 23:14:24   56314.7   46807.7            BTC     wait   \n",
       "1          2 2021-04-19 23:14:26   56314.7   46807.7            BTC        0   \n",
       "2          3 2021-04-19 23:14:27   56314.7   46807.7            BTC        0   \n",
       "3          4 2021-04-19 23:14:29   56314.7   46807.7            BTC        0   \n",
       "4          5 2021-04-19 23:14:31   56314.7   46807.7            BTC        0   \n",
       "...      ...                 ...       ...       ...            ...      ...   \n",
       "53544  53545 2021-04-21 16:01:56   55731.7   46404.3            BTC        0   \n",
       "53545  53546 2021-04-21 16:01:57   55731.7   46404.3            BTC        0   \n",
       "53546  53547 2021-04-21 16:01:59   55731.7   46404.3            BTC        0   \n",
       "53547  53548 2021-04-21 16:02:01   55731.7   46404.3            BTC        0   \n",
       "53548  53549 2021-04-21 16:02:04   55731.7   46404.3            BTC        0   \n",
       "\n",
       "          diff_usd decision    profit decision_  \n",
       "0             wait      buy  0.000000      wait  \n",
       "1                0     wait  0.000000      wait  \n",
       "2                0     wait  0.000000      wait  \n",
       "3                0     wait  0.000000      wait  \n",
       "4                0     wait  0.000000      wait  \n",
       "...            ...      ...       ...       ...  \n",
       "53544 -5.74147e-05     sell -0.008618      wait  \n",
       "53545            0     wait  0.000000      wait  \n",
       "53546            0     wait  0.000000      wait  \n",
       "53547            0     wait  0.000000      wait  \n",
       "53548            0     wait  0.000000      wait  \n",
       "\n",
       "[53549 rows x 10 columns]"
      ]
     },
     "execution_count": 75,
     "metadata": {},
     "output_type": "execute_result"
    }
   ],
   "source": [
    "sample_BTC = sample_BTC.join(pd.DataFrame(result, columns = [\"index\", \"decision_\"]).set_index(\"index\")).fillna('wait')"
   ]
  },
  {
   "cell_type": "code",
   "execution_count": 39,
   "metadata": {},
   "outputs": [],
   "source": [
    "def calc_profit (sample_BTC):\n",
    "    basic_value = sample_BTC.priceEUR[0]\n",
    "    sample_BTC[\"profit\"] = 0\n",
    "    sample_BTC[\"profit\"] = np.where(sample_BTC.decision.isin([\"buy\", \"sell\"]), (sample_BTC.priceEUR/basic_value)-1, sample_BTC.profit)\n",
    "    return sample_BTC"
   ]
  },
  {
   "cell_type": "code",
   "execution_count": 40,
   "metadata": {},
   "outputs": [
    {
     "name": "stderr",
     "output_type": "stream",
     "text": [
      "<ipython-input-39-9a56397beb84>:2: SettingWithCopyWarning: \n",
      "A value is trying to be set on a copy of a slice from a DataFrame\n",
      "\n",
      "See the caveats in the documentation: https://pandas.pydata.org/pandas-docs/stable/user_guide/indexing.html#returning-a-view-versus-a-copy\n",
      "  sample_BTC.decision[0] = 'buy'\n"
     ]
    }
   ],
   "source": [
    "sample_BTC = calc_profit(sample_BTC)"
   ]
  },
  {
   "cell_type": "code",
   "execution_count": 47,
   "metadata": {},
   "outputs": [
    {
     "data": {
      "text/plain": [
       "<AxesSubplot:xlabel='tmsp', ylabel='profit'>"
      ]
     },
     "execution_count": 47,
     "metadata": {},
     "output_type": "execute_result"
    },
    {
     "data": {
      "image/png": "[encoded data removed]",
      "text/plain": [
       "<Figure size 432x288 with 1 Axes>"
      ]
     },
     "metadata": {
      "needs_background": "light"
     },
     "output_type": "display_data"
    }
   ],
   "source": [
    "import seaborn as sns\n",
    "sns.lineplot(data = sample_BTC, x = 'tmsp', y = \"profit\")"
   ]
  },
  {
   "cell_type": "code",
   "execution_count": 48,
   "metadata": {},
   "outputs": [
    {
     "data": {
      "text/plain": [
       "count    53549.000000\n",
       "mean        -0.000177\n",
       "std          0.002080\n",
       "min         -0.038615\n",
       "25%          0.000000\n",
       "50%          0.000000\n",
       "75%          0.000000\n",
       "max          0.017717\n",
       "Name: profit, dtype: float64"
      ]
     },
     "execution_count": 48,
     "metadata": {},
     "output_type": "execute_result"
    }
   ],
   "source": [
    "sample_BTC.profit.describe()"
   ]
  },
  {
   "cell_type": "code",
   "execution_count": null,
   "metadata": {},
   "outputs": [],
   "source": []
  }
 ],
 "metadata": {
  "kernelspec": {
   "display_name": "Python 3",
   "language": "python",
   "name": "python3"
  },
  "language_info": {
   "codemirror_mode": {
    "name": "ipython",
    "version": 3
   },
   "file_extension": ".py",
   "mimetype": "text/x-python",
   "name": "python",
   "nbconvert_exporter": "python",
   "pygments_lexer": "ipython3",
   "version": "3.8.6"
  }
 },
 "nbformat": 4,
 "nbformat_minor": 4
}
