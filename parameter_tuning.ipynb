{
 "cells": [
  {
   "cell_type": "code",
   "execution_count": 13,
   "metadata": {},
   "outputs": [],
   "source": [
    "import pandas as pd\n",
    "import numpy as np\n",
    "import datetime\n",
    "import tqdm\n",
    "\n",
    "import matplotlib.pyplot as plt\n",
    "import seaborn as sns"
   ]
  },
  {
   "cell_type": "markdown",
   "metadata": {},
   "source": [
    "## Data Preprocessing"
   ]
  },
  {
   "cell_type": "code",
   "execution_count": 80,
   "metadata": {},
   "outputs": [],
   "source": [
    "stocks = pd.read_json(r\"data.json\")"
   ]
  },
  {
   "cell_type": "code",
   "execution_count": 81,
   "metadata": {},
   "outputs": [],
   "source": [
    "def preprocess_dataset (stocks):\n",
    "    stocks.rename({\"priceCurrencyOne\":\"priceUSD\"}, axis = 1, inplace = True)\n",
    "    stocks.rename({\"priceCurrencyTwo\":\"priceEUR\"}, axis = 1, inplace = True)\n",
    "\n",
    "    stocks.drop([\"currencyOne\", \"currencyTwo\"], axis = 1, inplace = True)\n",
    "    return stocks\n",
    "\n",
    "def extract_currency (stocks, currency):\n",
    "    return stocks[(stocks['tmsp']!='null')\n",
    "                &(stocks['priceUSD']!='null')\n",
    "                &(stocks['priceEUR']!='null')\n",
    "               &(stocks['cryptoCurrency']==currency)]\n",
    "\n",
    "def preprocess_currency (sample):\n",
    "    sample.tmsp = [datetime.datetime.fromtimestamp(x) for x in sample.tmsp.astype(int)]\n",
    "    sample.priceUSD = sample.priceUSD.astype(float)\n",
    "    sample.priceEUR = sample.priceEUR.astype(float)\n",
    "    return sample"
   ]
  },
  {
   "cell_type": "code",
   "execution_count": 82,
   "metadata": {},
   "outputs": [],
   "source": [
    "stocks = preprocess_dataset(stocks)\n",
    "sample_BTC = extract_currency(stocks, \"BTC\")\n",
    "sample_BTC = preprocess_currency(sample_BTC)"
   ]
  },
  {
   "cell_type": "markdown",
   "metadata": {},
   "source": [
    "## Features"
   ]
  },
  {
   "cell_type": "code",
   "execution_count": 83,
   "metadata": {},
   "outputs": [],
   "source": [
    "sample_BTC[\"diff_eur\"] = (sample_BTC.priceEUR/sample_BTC.priceEUR.shift(1))-1\n",
    "sample_BTC[\"diff_usd\"] = (sample_BTC.priceUSD/sample_BTC.priceUSD.shift(1))-1"
   ]
  },
  {
   "cell_type": "markdown",
   "metadata": {},
   "source": [
    "## Parameter tuning"
   ]
  },
  {
   "cell_type": "code",
   "execution_count": 84,
   "metadata": {},
   "outputs": [],
   "source": [
    "def list_pop (my_list):\n",
    "    my_list_new = my_list.copy()\n",
    "    return list(filter(lambda a: a != \"wait\", my_list_new))[-1]\n",
    "\n",
    "def trading_func (timespan, sensitivity, elements_to_process, data):\n",
    "    final_list = [[-1, 'placeholder']]\n",
    "    \n",
    "    for i in tqdm.tqdm(list(range(elements_to_process))): #53549\n",
    "        sample_BTC_new = data[(data.tmsp>=(data.tmsp[i]- pd.to_timedelta(f\"00:00:{timespan}\"))) \n",
    "                              & (data.tmsp<=data.tmsp[i])].copy()\n",
    "        value = ((sample_BTC_new[sample_BTC_new.tmsp == sample_BTC_new.tmsp.max()].priceUSD.values[0])/sample_BTC_new[sample_BTC_new.tmsp== sample_BTC_new.tmsp.min()].priceUSD.values[0])-1 \n",
    "\n",
    "        if ((abs(value) > sensitivity)) and value>0:\n",
    "            if final_list[-1][1] != 'buy':\n",
    "                final_list.append([i,\"buy\"]) \n",
    "\n",
    "        elif ((abs(value) > sensitivity)) and value<0: \n",
    "            if final_list[-1][1] != 'sell':\n",
    "                final_list.append([i, \"sell\"]) \n",
    "                \n",
    "    final_list.remove([-1, 'placeholder'])\n",
    "    return final_list\n",
    "\n",
    "def calc_profit (sample_BTC):\n",
    "    basic_value = sample_BTC.priceEUR[0]\n",
    "    sample_BTC[\"profit\"] = 0\n",
    "    sample_BTC[\"profit\"] = np.where(sample_BTC.decision.isin([\"buy\", \"sell\"]), (sample_BTC.priceEUR/basic_value)-1, sample_BTC.profit)\n",
    "    return sample_BTC"
   ]
  },
  {
   "cell_type": "code",
   "execution_count": 86,
   "metadata": {},
   "outputs": [
    {
     "name": "stderr",
     "output_type": "stream",
     "text": [
      "100%|███████████████████████████████████████████████████████████████████████████| 53549/53549 [02:35<00:00, 344.19it/s]\n"
     ]
    },
    {
     "ename": "AttributeError",
     "evalue": "'DataFrame' object has no attribute 'decision'",
     "output_type": "error",
     "traceback": [
      "\u001b[1;31m---------------------------------------------------------------------------\u001b[0m",
      "\u001b[1;31mAttributeError\u001b[0m                            Traceback (most recent call last)",
      "\u001b[1;32m<ipython-input-86-2eea06cf6d1f>\u001b[0m in \u001b[0;36m<module>\u001b[1;34m\u001b[0m\n\u001b[0;32m      4\u001b[0m         \u001b[0mresult\u001b[0m \u001b[1;33m=\u001b[0m \u001b[0mtrading_func\u001b[0m\u001b[1;33m(\u001b[0m\u001b[0mtimespan\u001b[0m\u001b[1;33m=\u001b[0m\u001b[0mt\u001b[0m\u001b[1;33m,\u001b[0m \u001b[0msensitivity\u001b[0m\u001b[1;33m=\u001b[0m\u001b[0ms\u001b[0m\u001b[1;33m,\u001b[0m \u001b[0melements_to_process\u001b[0m\u001b[1;33m=\u001b[0m\u001b[0mlen\u001b[0m\u001b[1;33m(\u001b[0m\u001b[0msample_BTC\u001b[0m\u001b[1;33m)\u001b[0m\u001b[1;33m,\u001b[0m \u001b[0mdata\u001b[0m\u001b[1;33m=\u001b[0m\u001b[0msample_BTC\u001b[0m\u001b[1;33m)\u001b[0m\u001b[1;33m\u001b[0m\u001b[1;33m\u001b[0m\u001b[0m\n\u001b[0;32m      5\u001b[0m         \u001b[0msample_BTC\u001b[0m \u001b[1;33m=\u001b[0m \u001b[0msample_BTC\u001b[0m\u001b[1;33m.\u001b[0m\u001b[0mjoin\u001b[0m\u001b[1;33m(\u001b[0m\u001b[0mpd\u001b[0m\u001b[1;33m.\u001b[0m\u001b[0mDataFrame\u001b[0m\u001b[1;33m(\u001b[0m\u001b[0mresult\u001b[0m\u001b[1;33m,\u001b[0m \u001b[0mcolumns\u001b[0m \u001b[1;33m=\u001b[0m \u001b[1;33m[\u001b[0m\u001b[1;34m\"index\"\u001b[0m\u001b[1;33m,\u001b[0m \u001b[1;34m\"decision_\"\u001b[0m\u001b[1;33m]\u001b[0m\u001b[1;33m)\u001b[0m\u001b[1;33m.\u001b[0m\u001b[0mset_index\u001b[0m\u001b[1;33m(\u001b[0m\u001b[1;34m\"index\"\u001b[0m\u001b[1;33m)\u001b[0m\u001b[1;33m)\u001b[0m\u001b[1;33m.\u001b[0m\u001b[0mfillna\u001b[0m\u001b[1;33m(\u001b[0m\u001b[1;34m'wait'\u001b[0m\u001b[1;33m)\u001b[0m\u001b[1;33m\u001b[0m\u001b[1;33m\u001b[0m\u001b[0m\n\u001b[1;32m----> 6\u001b[1;33m         \u001b[0msample_BTC\u001b[0m \u001b[1;33m=\u001b[0m \u001b[0mcalc_profit\u001b[0m\u001b[1;33m(\u001b[0m\u001b[0msample_BTC\u001b[0m\u001b[1;33m)\u001b[0m\u001b[1;33m\u001b[0m\u001b[1;33m\u001b[0m\u001b[0m\n\u001b[0m\u001b[0;32m      7\u001b[0m \u001b[1;33m\u001b[0m\u001b[0m\n\u001b[0;32m      8\u001b[0m         \u001b[0msns\u001b[0m\u001b[1;33m.\u001b[0m\u001b[0mlineplot\u001b[0m\u001b[1;33m(\u001b[0m\u001b[0mdata\u001b[0m \u001b[1;33m=\u001b[0m \u001b[0msample_BTC\u001b[0m\u001b[1;33m,\u001b[0m \u001b[0mx\u001b[0m \u001b[1;33m=\u001b[0m \u001b[1;34m'tmsp'\u001b[0m\u001b[1;33m,\u001b[0m \u001b[0my\u001b[0m \u001b[1;33m=\u001b[0m \u001b[1;34m\"profit\"\u001b[0m\u001b[1;33m)\u001b[0m\u001b[1;33m\u001b[0m\u001b[1;33m\u001b[0m\u001b[0m\n",
      "\u001b[1;32m<ipython-input-84-7b21853c9f73>\u001b[0m in \u001b[0;36mcalc_profit\u001b[1;34m(sample_BTC)\u001b[0m\n\u001b[0;32m     25\u001b[0m     \u001b[0mbasic_value\u001b[0m \u001b[1;33m=\u001b[0m \u001b[0msample_BTC\u001b[0m\u001b[1;33m.\u001b[0m\u001b[0mpriceEUR\u001b[0m\u001b[1;33m[\u001b[0m\u001b[1;36m0\u001b[0m\u001b[1;33m]\u001b[0m\u001b[1;33m\u001b[0m\u001b[1;33m\u001b[0m\u001b[0m\n\u001b[0;32m     26\u001b[0m     \u001b[0msample_BTC\u001b[0m\u001b[1;33m[\u001b[0m\u001b[1;34m\"profit\"\u001b[0m\u001b[1;33m]\u001b[0m \u001b[1;33m=\u001b[0m \u001b[1;36m0\u001b[0m\u001b[1;33m\u001b[0m\u001b[1;33m\u001b[0m\u001b[0m\n\u001b[1;32m---> 27\u001b[1;33m     \u001b[0msample_BTC\u001b[0m\u001b[1;33m[\u001b[0m\u001b[1;34m\"profit\"\u001b[0m\u001b[1;33m]\u001b[0m \u001b[1;33m=\u001b[0m \u001b[0mnp\u001b[0m\u001b[1;33m.\u001b[0m\u001b[0mwhere\u001b[0m\u001b[1;33m(\u001b[0m\u001b[0msample_BTC\u001b[0m\u001b[1;33m.\u001b[0m\u001b[0mdecision\u001b[0m\u001b[1;33m.\u001b[0m\u001b[0misin\u001b[0m\u001b[1;33m(\u001b[0m\u001b[1;33m[\u001b[0m\u001b[1;34m\"buy\"\u001b[0m\u001b[1;33m,\u001b[0m \u001b[1;34m\"sell\"\u001b[0m\u001b[1;33m]\u001b[0m\u001b[1;33m)\u001b[0m\u001b[1;33m,\u001b[0m \u001b[1;33m(\u001b[0m\u001b[0msample_BTC\u001b[0m\u001b[1;33m.\u001b[0m\u001b[0mpriceEUR\u001b[0m\u001b[1;33m/\u001b[0m\u001b[0mbasic_value\u001b[0m\u001b[1;33m)\u001b[0m\u001b[1;33m-\u001b[0m\u001b[1;36m1\u001b[0m\u001b[1;33m,\u001b[0m \u001b[0msample_BTC\u001b[0m\u001b[1;33m.\u001b[0m\u001b[0mprofit\u001b[0m\u001b[1;33m)\u001b[0m\u001b[1;33m\u001b[0m\u001b[1;33m\u001b[0m\u001b[0m\n\u001b[0m\u001b[0;32m     28\u001b[0m     \u001b[1;32mreturn\u001b[0m \u001b[0msample_BTC\u001b[0m\u001b[1;33m\u001b[0m\u001b[1;33m\u001b[0m\u001b[0m\n",
      "\u001b[1;32mc:\\users\\acer\\appdata\\local\\programs\\python\\python38\\lib\\site-packages\\pandas\\core\\generic.py\u001b[0m in \u001b[0;36m__getattr__\u001b[1;34m(self, name)\u001b[0m\n\u001b[0;32m   5139\u001b[0m             \u001b[1;32mif\u001b[0m \u001b[0mself\u001b[0m\u001b[1;33m.\u001b[0m\u001b[0m_info_axis\u001b[0m\u001b[1;33m.\u001b[0m\u001b[0m_can_hold_identifiers_and_holds_name\u001b[0m\u001b[1;33m(\u001b[0m\u001b[0mname\u001b[0m\u001b[1;33m)\u001b[0m\u001b[1;33m:\u001b[0m\u001b[1;33m\u001b[0m\u001b[1;33m\u001b[0m\u001b[0m\n\u001b[0;32m   5140\u001b[0m                 \u001b[1;32mreturn\u001b[0m \u001b[0mself\u001b[0m\u001b[1;33m[\u001b[0m\u001b[0mname\u001b[0m\u001b[1;33m]\u001b[0m\u001b[1;33m\u001b[0m\u001b[1;33m\u001b[0m\u001b[0m\n\u001b[1;32m-> 5141\u001b[1;33m             \u001b[1;32mreturn\u001b[0m \u001b[0mobject\u001b[0m\u001b[1;33m.\u001b[0m\u001b[0m__getattribute__\u001b[0m\u001b[1;33m(\u001b[0m\u001b[0mself\u001b[0m\u001b[1;33m,\u001b[0m \u001b[0mname\u001b[0m\u001b[1;33m)\u001b[0m\u001b[1;33m\u001b[0m\u001b[1;33m\u001b[0m\u001b[0m\n\u001b[0m\u001b[0;32m   5142\u001b[0m \u001b[1;33m\u001b[0m\u001b[0m\n\u001b[0;32m   5143\u001b[0m     \u001b[1;32mdef\u001b[0m \u001b[0m__setattr__\u001b[0m\u001b[1;33m(\u001b[0m\u001b[0mself\u001b[0m\u001b[1;33m,\u001b[0m \u001b[0mname\u001b[0m\u001b[1;33m:\u001b[0m \u001b[0mstr\u001b[0m\u001b[1;33m,\u001b[0m \u001b[0mvalue\u001b[0m\u001b[1;33m)\u001b[0m \u001b[1;33m->\u001b[0m \u001b[1;32mNone\u001b[0m\u001b[1;33m:\u001b[0m\u001b[1;33m\u001b[0m\u001b[1;33m\u001b[0m\u001b[0m\n",
      "\u001b[1;31mAttributeError\u001b[0m: 'DataFrame' object has no attribute 'decision'"
     ]
    }
   ],
   "source": [
    "for t in tqdm.tqdm([15, 20, 30]):\n",
    "    for s in [0.001, 0.002]:\n",
    "        sample_BTC_copy = sample_BTC.copy()\n",
    "        result = trading_func(timespan=t, sensitivity=s, elements_to_process=len(sample_BTC_copy), data=sample_BTC_copy)\n",
    "        sample_BTC_copy = sample_BTC_copy.join(pd.DataFrame(result, columns = [\"index\", \"decision\"]).set_index(\"index\")).fillna('wait')\n",
    "        sample_BTC_copy = calc_profit(sample_BTC_copy)\n",
    "\n",
    "        sns.lineplot(data = sample_BTC_copy, x = 'tmsp', y = \"profit\")\n",
    "        plt.show()\n",
    "\n",
    "        print(sample_BTC_copy.profit.describe())\n",
    "        print(\"Duration\", t, \"sensitivity\", s)"
   ]
  },
  {
   "cell_type": "code",
   "execution_count": null,
   "metadata": {},
   "outputs": [],
   "source": []
  }
 ],
 "metadata": {
  "kernelspec": {
   "display_name": "Python 3",
   "language": "python",
   "name": "python3"
  },
  "language_info": {
   "codemirror_mode": {
    "name": "ipython",
    "version": 3
   },
   "file_extension": ".py",
   "mimetype": "text/x-python",
   "name": "python",
   "nbconvert_exporter": "python",
   "pygments_lexer": "ipython3",
   "version": "3.8.6"
  }
 },
 "nbformat": 4,
 "nbformat_minor": 4
}
